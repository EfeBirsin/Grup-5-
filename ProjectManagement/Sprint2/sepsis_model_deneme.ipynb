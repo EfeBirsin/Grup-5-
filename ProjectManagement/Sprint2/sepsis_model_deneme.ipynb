{
  "nbformat": 4,
  "nbformat_minor": 0,
  "metadata": {
    "colab": {
      "provenance": []
    },
    "kernelspec": {
      "name": "python3",
      "display_name": "Python 3"
    },
    "language_info": {
      "name": "python"
    }
  },
  "cells": [
    {
      "cell_type": "code",
      "execution_count": null,
      "metadata": {
        "id": "06MxZocAHTrx"
      },
      "outputs": [],
      "source": [
        "import numpy as np\n",
        "import pandas as pd"
      ]
    },
    {
      "cell_type": "code",
      "source": [
        "#Temel Tablolar\n",
        "patients = pd.read_csv(\"PATIENTS.csv\", parse_dates = ['dob', 'dod', 'dod_hosp', 'dod_ssn'])\n",
        "admissions = pd.read_csv(\"ADMISSIONS.csv\", parse_dates = ['admittime', 'dischtime', 'deathtime', 'edregtime', 'edouttime'])\n",
        "icustays = pd.read_csv(\"ICUSTAYS.csv\", parse_dates = ['intime', 'outtime'])\n",
        "\n",
        "#Hedef Değişkeni\n",
        "diagnoses_icd = pd.read_csv(\"DIAGNOSES_ICD.csv\")\n",
        "\n",
        "#Özellik (Feature) Tabloları\n",
        "chartevents = pd.read_csv(\"CHARTEVENTS.csv\")\n",
        "labevents = pd.read_csv(\"LABEVENTS.csv\")\n",
        "\n",
        "#Sözlük (Dictionary) Tabloları\n",
        "d_icd_diagnoses = pd.read_csv(\"D_ICD_DIAGNOSES.csv\")\n",
        "d_items = pd.read_csv(\"D_ITEMS.csv\")\n",
        "d_labitems = pd.read_csv(\"D_LABITEMS.csv\")"
      ],
      "metadata": {
        "colab": {
          "base_uri": "https://localhost:8080/"
        },
        "id": "DWuOc4Y0HdGJ",
        "outputId": "2353c90d-f806-487e-beb3-8de701194fd3"
      },
      "execution_count": null,
      "outputs": [
        {
          "output_type": "stream",
          "name": "stderr",
          "text": [
            "/tmp/ipython-input-11-69767842.py:10: DtypeWarning: Columns (8,13,14) have mixed types. Specify dtype option on import or set low_memory=False.\n",
            "  chartevents = pd.read_csv(\"CHARTEVENTS.csv\")\n"
          ]
        }
      ]
    },
    {
      "cell_type": "code",
      "source": [
        "patients_clean = patients[['subject_id', 'gender', 'dob', 'dod']]\n",
        "admissions_clean = admissions[['subject_id', 'hadm_id', 'admittime', 'admission_type', 'ethnicity', 'diagnosis']]\n",
        "icustays_clean = icustays[['subject_id', 'hadm_id', 'icustay_id', 'intime', 'outtime', 'los']]\n",
        "diagnoses_icd_clean = diagnoses_icd[['hadm_id', 'icd9_code']]"
      ],
      "metadata": {
        "id": "qm_NSnZkUcX6"
      },
      "execution_count": null,
      "outputs": []
    },
    {
      "cell_type": "code",
      "source": [
        "cohort = pd.merge(icustays_clean, patients_clean, on='subject_id', how='inner')\n",
        "cohort = pd.merge(cohort, admissions_clean, on=['subject_id', 'hadm_id'], how='inner')"
      ],
      "metadata": {
        "id": "EvjeB9OzWxOA"
      },
      "execution_count": null,
      "outputs": []
    },
    {
      "cell_type": "code",
      "source": [
        "# yıl farkını hesaplayarak kimlerin \"sahte yaşlı\" olduğunu bulalım.\n",
        "potential_age = cohort['intime'].dt.year - cohort['dob'].dt.year\n",
        "\n",
        "# \"Sahte yaşlı\" olmayan hastaların (potential_age < 150) indekslerini belirle.\n",
        "normal_age_indices = cohort[potential_age < 150].index\n",
        "cohort.loc[normal_age_indices, 'age'] = (cohort.loc[normal_age_indices, 'intime'] - cohort.loc[normal_age_indices, 'dob']).dt.days / 365.25\n",
        "\n",
        "cohort['age'] = cohort['age'].fillna(90)\n",
        "cohort['age'] = cohort['age'].astype(int)\n",
        "\n",
        "print(\"İlk 5 hastanın yaşı:\")\n",
        "print(cohort[['subject_id', 'age']].head())\n",
        "print(\"\\nYaş dağılımı:\")\n",
        "print(cohort['age'].describe())"
      ],
      "metadata": {
        "colab": {
          "base_uri": "https://localhost:8080/"
        },
        "id": "sXbQ1eHGZevf",
        "outputId": "53c37192-d3c7-4576-f2cd-6c122c9ef3db"
      },
      "execution_count": null,
      "outputs": [
        {
          "output_type": "stream",
          "name": "stdout",
          "text": [
            "İlk 5 hastanın yaşı:\n",
            "   subject_id  age\n",
            "0       10006   70\n",
            "1       10011   36\n",
            "2       10013   87\n",
            "3       10017   73\n",
            "4       10019   48\n",
            "\n",
            "Yaş dağılımı:\n",
            "count    136.000000\n",
            "mean      70.382353\n",
            "std       16.189644\n",
            "min       17.000000\n",
            "25%       63.000000\n",
            "50%       74.000000\n",
            "75%       83.000000\n",
            "max       90.000000\n",
            "Name: age, dtype: float64\n"
          ]
        }
      ]
    },
    {
      "cell_type": "code",
      "source": [
        "# Sepsis ile ilişkili ICD9 kodları\n",
        "sepsis_codes = ['99591', '99592', '78552']\n",
        "\n",
        "diagnoses_icd_clean['is_sepsis'] = diagnoses_icd_clean['icd9_code'].isin(sepsis_codes).astype(int)\n",
        "\n",
        "# Her bir HADM_ID için sepsis teşhisi olup olmadığını gruplayalım\n",
        "sepsis_labels = diagnoses_icd_clean.groupby('hadm_id')['is_sepsis'].max().reset_index()\n",
        "\n",
        "cohort = pd.merge(cohort, sepsis_labels, on='hadm_id', how='left')\n",
        "\n",
        "# NaN değerler için\n",
        "cohort['is_sepsis'] = cohort['is_sepsis'].fillna(0).astype(int)"
      ],
      "metadata": {
        "colab": {
          "base_uri": "https://localhost:8080/"
        },
        "id": "9sFP37q0Zr_2",
        "outputId": "73668c26-e789-41c0-c461-90a57d9f1b6f"
      },
      "execution_count": null,
      "outputs": [
        {
          "output_type": "stream",
          "name": "stderr",
          "text": [
            "/tmp/ipython-input-15-2639128807.py:4: SettingWithCopyWarning: \n",
            "A value is trying to be set on a copy of a slice from a DataFrame.\n",
            "Try using .loc[row_indexer,col_indexer] = value instead\n",
            "\n",
            "See the caveats in the documentation: https://pandas.pydata.org/pandas-docs/stable/user_guide/indexing.html#returning-a-view-versus-a-copy\n",
            "  diagnoses_icd_clean['is_sepsis'] = diagnoses_icd_clean['icd9_code'].isin(sepsis_codes).astype(int)\n"
          ]
        }
      ]
    },
    {
      "cell_type": "markdown",
      "source": [
        "# Özellik Verileri"
      ],
      "metadata": {
        "id": "gxgOQ25OcejZ"
      }
    },
    {
      "cell_type": "code",
      "source": [
        "d_items = pd.read_csv('D_ITEMS.csv')\n",
        "d_labitems = pd.read_csv('D_LABITEMS.csv')\n",
        "\n",
        "vitals_map = {\n",
        "    211: 'HeartRate',\n",
        "    220045: 'HeartRate',\n",
        "    618: 'RespRate',\n",
        "    220210: 'RespRate',\n",
        "    646: 'SpO2',\n",
        "    220277: 'SpO2',\n",
        "    51: 'SysBP',      # Arteryel Sistolik Kan Basıncı\n",
        "    220050: 'SysBP',\n",
        "    8368: 'DiaBP',    # Arteryel Diyastolik Kan Basıncı\n",
        "    220051: 'DiaBP',\n",
        "    678: 'TemperatureC', # Santigrat\n",
        "    223761: 'TemperatureF' # Fahrenhayt (Santigrata çevrilmeli)\n",
        "}\n",
        "\n",
        "labs_map = {\n",
        "    50912: 'Creatinine',\n",
        "    51006: 'BUN',          # Blood Urea Nitrogen\n",
        "    51301: 'WBC',          # White Blood Cell Count\n",
        "    51265: 'Platelets',\n",
        "    50813: 'Lactate',\n",
        "    50882: 'Bicarbonate'\n",
        "}"
      ],
      "metadata": {
        "id": "zHX-5sBicb2-"
      },
      "execution_count": null,
      "outputs": []
    },
    {
      "cell_type": "code",
      "source": [
        "chartevents = pd.read_csv('CHARTEVENTS.csv', parse_dates=['charttime'])\n",
        "labevents = pd.read_csv('LABEVENTS.csv', parse_dates=['charttime'])\n",
        "\n",
        "vitals = chartevents[chartevents['itemid'].isin(vitals_map.keys())]\n",
        "labs = labevents[labevents['itemid'].isin(labs_map.keys())]\n",
        "\n",
        "vitals_clean = vitals[['icustay_id', 'charttime', 'itemid', 'valuenum']]\n",
        "vitals_clean['label'] = vitals_clean['itemid'].map(vitals_map)\n",
        "\n",
        "labs_clean = labs[['hadm_id', 'charttime', 'itemid', 'valuenum']]\n",
        "\n",
        "labs_clean = pd.merge(labs_clean, cohort[['hadm_id', 'icustay_id']], on='hadm_id', how='inner')\n",
        "labs_clean['label'] = labs_clean['itemid'].map(labs_map)\n",
        "\n",
        "features = pd.concat([\n",
        "    vitals_clean[['icustay_id', 'charttime', 'label', 'valuenum']],\n",
        "    labs_clean[['icustay_id', 'charttime', 'label', 'valuenum']]\n",
        "])"
      ],
      "metadata": {
        "colab": {
          "base_uri": "https://localhost:8080/"
        },
        "id": "JIbLtgrtci0S",
        "outputId": "1b8f6e5a-8bf0-4fa4-9a70-7a8e2a98e2ca"
      },
      "execution_count": null,
      "outputs": [
        {
          "output_type": "stream",
          "name": "stderr",
          "text": [
            "/tmp/ipython-input-17-1318724709.py:1: DtypeWarning: Columns (8,13,14) have mixed types. Specify dtype option on import or set low_memory=False.\n",
            "  chartevents = pd.read_csv('CHARTEVENTS.csv', parse_dates=['charttime'])\n",
            "/tmp/ipython-input-17-1318724709.py:8: SettingWithCopyWarning: \n",
            "A value is trying to be set on a copy of a slice from a DataFrame.\n",
            "Try using .loc[row_indexer,col_indexer] = value instead\n",
            "\n",
            "See the caveats in the documentation: https://pandas.pydata.org/pandas-docs/stable/user_guide/indexing.html#returning-a-view-versus-a-copy\n",
            "  vitals_clean['label'] = vitals_clean['itemid'].map(vitals_map)\n"
          ]
        }
      ]
    },
    {
      "cell_type": "markdown",
      "source": [
        "# Zaman Serisi Verileri"
      ],
      "metadata": {
        "id": "xTdpA-O9dHYH"
      }
    },
    {
      "cell_type": "code",
      "source": [
        "# Kohorttan YBÜ giriş zamanını (INTIME)\n",
        "features = pd.merge(features, cohort[['icustay_id', 'intime']], on='icustay_id', how='left')\n",
        "\n",
        "# Ölçümün YBÜ'ye girişten kaç saat sonra yapıldığı\n",
        "features['hours_since_admit'] = (features['charttime'] - features['intime']).dt.total_seconds() / 3600\n",
        "\n",
        "# İlk 24 saati filtreleme\n",
        "features_first_24h = features[(features['hours_since_admit'] >= 0) & (features['hours_since_admit'] <= 24)]\n",
        "\n",
        "final_features = features_first_24h.pivot_table(\n",
        "    index='icustay_id',\n",
        "    columns='label',\n",
        "    values='valuenum',\n",
        "    aggfunc='mean' # Ortalama yerine 'max', 'min', 'std' (standart sapma) da kullanılabilir\n",
        ").reset_index()\n",
        "\n",
        "final_dataset = pd.merge(cohort[['icustay_id', 'age', 'gender', 'ethnicity', 'admission_type', 'is_sepsis']],\n",
        "                         final_features,\n",
        "                         on='icustay_id',\n",
        "                         how='inner')"
      ],
      "metadata": {
        "id": "RnEACwKBcl9q"
      },
      "execution_count": null,
      "outputs": []
    },
    {
      "cell_type": "code",
      "source": [
        "final_dataset"
      ],
      "metadata": {
        "colab": {
          "base_uri": "https://localhost:8080/",
          "height": 424
        },
        "id": "_vYe8-WfdinB",
        "outputId": "a6badd9b-4730-4183-b4fc-d39668766f4b"
      },
      "execution_count": null,
      "outputs": [
        {
          "output_type": "execute_result",
          "data": {
            "text/plain": [
              "     icustay_id  age gender               ethnicity admission_type  is_sepsis  \\\n",
              "0        206504   70      F  BLACK/AFRICAN AMERICAN      EMERGENCY          1   \n",
              "1        232110   36      F   UNKNOWN/NOT SPECIFIED      EMERGENCY          0   \n",
              "2        264446   87      F   UNKNOWN/NOT SPECIFIED      EMERGENCY          0   \n",
              "3        204881   73      F                   WHITE      EMERGENCY          0   \n",
              "4        228977   48      M                   WHITE      EMERGENCY          1   \n",
              "..          ...  ...    ...                     ...            ...        ...   \n",
              "130      286428   54      M                   WHITE      EMERGENCY          0   \n",
              "131      217724   90      M                   WHITE      EMERGENCY          1   \n",
              "132      239396   45      F  BLACK/AFRICAN AMERICAN      EMERGENCY          1   \n",
              "133      238186   73      M                   WHITE      EMERGENCY          0   \n",
              "134      217992   58      F                   WHITE      EMERGENCY          1   \n",
              "\n",
              "       BUN  Bicarbonate  Creatinine      DiaBP   HeartRate    Lactate  \\\n",
              "0    11.00        31.00    3.500000        NaN   86.062500   1.300000   \n",
              "1     3.00        23.00    0.700000        NaN   86.958333        NaN   \n",
              "2    32.00        29.00    1.700000        NaN   98.725000        NaN   \n",
              "3     3.00        29.00    0.300000        NaN   95.227273        NaN   \n",
              "4    39.25        13.50    5.333333        NaN   83.547619  16.812500   \n",
              "..     ...          ...         ...        ...         ...        ...   \n",
              "130    NaN          NaN         NaN        NaN  113.000000        NaN   \n",
              "131  21.00        19.00    0.900000  61.260870   73.437500   2.675000   \n",
              "132  49.25        20.00    3.975000  52.600000   95.916667   2.266667   \n",
              "133  23.00        26.50    1.450000        NaN   56.413793        NaN   \n",
              "134  10.50        17.75    0.700000  62.862069  108.515152   2.050000   \n",
              "\n",
              "      Platelets   RespRate       SpO2       SysBP  TemperatureC  TemperatureF  \\\n",
              "0    106.000000  28.875000  98.533333         NaN     98.571429           NaN   \n",
              "1    299.000000  18.833333  98.913043         NaN     98.028571           NaN   \n",
              "2    216.500000  23.900000  93.384615  112.605263           NaN           NaN   \n",
              "3    202.000000  25.904762  92.823529         NaN     96.125000           NaN   \n",
              "4     57.333333  31.350000  88.937500   83.833333     96.079999           NaN   \n",
              "..          ...        ...        ...         ...           ...           ...   \n",
              "130  166.000000  21.913043  97.125000         NaN           NaN     98.866667   \n",
              "131   80.000000  25.939394  86.343750  101.000000           NaN     99.233333   \n",
              "132   70.000000  32.638889  96.805556   96.714286           NaN     97.912500   \n",
              "133  197.000000  17.137931  97.700000         NaN           NaN     96.920000   \n",
              "134  360.000000  23.593750  96.937500  102.448276           NaN     99.470000   \n",
              "\n",
              "       WBC  \n",
              "0     4.60  \n",
              "1    10.60  \n",
              "2    15.00  \n",
              "3    15.80  \n",
              "4     5.80  \n",
              "..     ...  \n",
              "130  12.30  \n",
              "131  17.10  \n",
              "132  10.10  \n",
              "133   9.30  \n",
              "134  24.55  \n",
              "\n",
              "[135 rows x 19 columns]"
            ],
            "text/html": [
              "\n",
              "  <div id=\"df-eceee53d-9d8a-4650-a204-ce731adf6bbe\" class=\"colab-df-container\">\n",
              "    <div>\n",
              "<style scoped>\n",
              "    .dataframe tbody tr th:only-of-type {\n",
              "        vertical-align: middle;\n",
              "    }\n",
              "\n",
              "    .dataframe tbody tr th {\n",
              "        vertical-align: top;\n",
              "    }\n",
              "\n",
              "    .dataframe thead th {\n",
              "        text-align: right;\n",
              "    }\n",
              "</style>\n",
              "<table border=\"1\" class=\"dataframe\">\n",
              "  <thead>\n",
              "    <tr style=\"text-align: right;\">\n",
              "      <th></th>\n",
              "      <th>icustay_id</th>\n",
              "      <th>age</th>\n",
              "      <th>gender</th>\n",
              "      <th>ethnicity</th>\n",
              "      <th>admission_type</th>\n",
              "      <th>is_sepsis</th>\n",
              "      <th>BUN</th>\n",
              "      <th>Bicarbonate</th>\n",
              "      <th>Creatinine</th>\n",
              "      <th>DiaBP</th>\n",
              "      <th>HeartRate</th>\n",
              "      <th>Lactate</th>\n",
              "      <th>Platelets</th>\n",
              "      <th>RespRate</th>\n",
              "      <th>SpO2</th>\n",
              "      <th>SysBP</th>\n",
              "      <th>TemperatureC</th>\n",
              "      <th>TemperatureF</th>\n",
              "      <th>WBC</th>\n",
              "    </tr>\n",
              "  </thead>\n",
              "  <tbody>\n",
              "    <tr>\n",
              "      <th>0</th>\n",
              "      <td>206504</td>\n",
              "      <td>70</td>\n",
              "      <td>F</td>\n",
              "      <td>BLACK/AFRICAN AMERICAN</td>\n",
              "      <td>EMERGENCY</td>\n",
              "      <td>1</td>\n",
              "      <td>11.00</td>\n",
              "      <td>31.00</td>\n",
              "      <td>3.500000</td>\n",
              "      <td>NaN</td>\n",
              "      <td>86.062500</td>\n",
              "      <td>1.300000</td>\n",
              "      <td>106.000000</td>\n",
              "      <td>28.875000</td>\n",
              "      <td>98.533333</td>\n",
              "      <td>NaN</td>\n",
              "      <td>98.571429</td>\n",
              "      <td>NaN</td>\n",
              "      <td>4.60</td>\n",
              "    </tr>\n",
              "    <tr>\n",
              "      <th>1</th>\n",
              "      <td>232110</td>\n",
              "      <td>36</td>\n",
              "      <td>F</td>\n",
              "      <td>UNKNOWN/NOT SPECIFIED</td>\n",
              "      <td>EMERGENCY</td>\n",
              "      <td>0</td>\n",
              "      <td>3.00</td>\n",
              "      <td>23.00</td>\n",
              "      <td>0.700000</td>\n",
              "      <td>NaN</td>\n",
              "      <td>86.958333</td>\n",
              "      <td>NaN</td>\n",
              "      <td>299.000000</td>\n",
              "      <td>18.833333</td>\n",
              "      <td>98.913043</td>\n",
              "      <td>NaN</td>\n",
              "      <td>98.028571</td>\n",
              "      <td>NaN</td>\n",
              "      <td>10.60</td>\n",
              "    </tr>\n",
              "    <tr>\n",
              "      <th>2</th>\n",
              "      <td>264446</td>\n",
              "      <td>87</td>\n",
              "      <td>F</td>\n",
              "      <td>UNKNOWN/NOT SPECIFIED</td>\n",
              "      <td>EMERGENCY</td>\n",
              "      <td>0</td>\n",
              "      <td>32.00</td>\n",
              "      <td>29.00</td>\n",
              "      <td>1.700000</td>\n",
              "      <td>NaN</td>\n",
              "      <td>98.725000</td>\n",
              "      <td>NaN</td>\n",
              "      <td>216.500000</td>\n",
              "      <td>23.900000</td>\n",
              "      <td>93.384615</td>\n",
              "      <td>112.605263</td>\n",
              "      <td>NaN</td>\n",
              "      <td>NaN</td>\n",
              "      <td>15.00</td>\n",
              "    </tr>\n",
              "    <tr>\n",
              "      <th>3</th>\n",
              "      <td>204881</td>\n",
              "      <td>73</td>\n",
              "      <td>F</td>\n",
              "      <td>WHITE</td>\n",
              "      <td>EMERGENCY</td>\n",
              "      <td>0</td>\n",
              "      <td>3.00</td>\n",
              "      <td>29.00</td>\n",
              "      <td>0.300000</td>\n",
              "      <td>NaN</td>\n",
              "      <td>95.227273</td>\n",
              "      <td>NaN</td>\n",
              "      <td>202.000000</td>\n",
              "      <td>25.904762</td>\n",
              "      <td>92.823529</td>\n",
              "      <td>NaN</td>\n",
              "      <td>96.125000</td>\n",
              "      <td>NaN</td>\n",
              "      <td>15.80</td>\n",
              "    </tr>\n",
              "    <tr>\n",
              "      <th>4</th>\n",
              "      <td>228977</td>\n",
              "      <td>48</td>\n",
              "      <td>M</td>\n",
              "      <td>WHITE</td>\n",
              "      <td>EMERGENCY</td>\n",
              "      <td>1</td>\n",
              "      <td>39.25</td>\n",
              "      <td>13.50</td>\n",
              "      <td>5.333333</td>\n",
              "      <td>NaN</td>\n",
              "      <td>83.547619</td>\n",
              "      <td>16.812500</td>\n",
              "      <td>57.333333</td>\n",
              "      <td>31.350000</td>\n",
              "      <td>88.937500</td>\n",
              "      <td>83.833333</td>\n",
              "      <td>96.079999</td>\n",
              "      <td>NaN</td>\n",
              "      <td>5.80</td>\n",
              "    </tr>\n",
              "    <tr>\n",
              "      <th>...</th>\n",
              "      <td>...</td>\n",
              "      <td>...</td>\n",
              "      <td>...</td>\n",
              "      <td>...</td>\n",
              "      <td>...</td>\n",
              "      <td>...</td>\n",
              "      <td>...</td>\n",
              "      <td>...</td>\n",
              "      <td>...</td>\n",
              "      <td>...</td>\n",
              "      <td>...</td>\n",
              "      <td>...</td>\n",
              "      <td>...</td>\n",
              "      <td>...</td>\n",
              "      <td>...</td>\n",
              "      <td>...</td>\n",
              "      <td>...</td>\n",
              "      <td>...</td>\n",
              "      <td>...</td>\n",
              "    </tr>\n",
              "    <tr>\n",
              "      <th>130</th>\n",
              "      <td>286428</td>\n",
              "      <td>54</td>\n",
              "      <td>M</td>\n",
              "      <td>WHITE</td>\n",
              "      <td>EMERGENCY</td>\n",
              "      <td>0</td>\n",
              "      <td>NaN</td>\n",
              "      <td>NaN</td>\n",
              "      <td>NaN</td>\n",
              "      <td>NaN</td>\n",
              "      <td>113.000000</td>\n",
              "      <td>NaN</td>\n",
              "      <td>166.000000</td>\n",
              "      <td>21.913043</td>\n",
              "      <td>97.125000</td>\n",
              "      <td>NaN</td>\n",
              "      <td>NaN</td>\n",
              "      <td>98.866667</td>\n",
              "      <td>12.30</td>\n",
              "    </tr>\n",
              "    <tr>\n",
              "      <th>131</th>\n",
              "      <td>217724</td>\n",
              "      <td>90</td>\n",
              "      <td>M</td>\n",
              "      <td>WHITE</td>\n",
              "      <td>EMERGENCY</td>\n",
              "      <td>1</td>\n",
              "      <td>21.00</td>\n",
              "      <td>19.00</td>\n",
              "      <td>0.900000</td>\n",
              "      <td>61.260870</td>\n",
              "      <td>73.437500</td>\n",
              "      <td>2.675000</td>\n",
              "      <td>80.000000</td>\n",
              "      <td>25.939394</td>\n",
              "      <td>86.343750</td>\n",
              "      <td>101.000000</td>\n",
              "      <td>NaN</td>\n",
              "      <td>99.233333</td>\n",
              "      <td>17.10</td>\n",
              "    </tr>\n",
              "    <tr>\n",
              "      <th>132</th>\n",
              "      <td>239396</td>\n",
              "      <td>45</td>\n",
              "      <td>F</td>\n",
              "      <td>BLACK/AFRICAN AMERICAN</td>\n",
              "      <td>EMERGENCY</td>\n",
              "      <td>1</td>\n",
              "      <td>49.25</td>\n",
              "      <td>20.00</td>\n",
              "      <td>3.975000</td>\n",
              "      <td>52.600000</td>\n",
              "      <td>95.916667</td>\n",
              "      <td>2.266667</td>\n",
              "      <td>70.000000</td>\n",
              "      <td>32.638889</td>\n",
              "      <td>96.805556</td>\n",
              "      <td>96.714286</td>\n",
              "      <td>NaN</td>\n",
              "      <td>97.912500</td>\n",
              "      <td>10.10</td>\n",
              "    </tr>\n",
              "    <tr>\n",
              "      <th>133</th>\n",
              "      <td>238186</td>\n",
              "      <td>73</td>\n",
              "      <td>M</td>\n",
              "      <td>WHITE</td>\n",
              "      <td>EMERGENCY</td>\n",
              "      <td>0</td>\n",
              "      <td>23.00</td>\n",
              "      <td>26.50</td>\n",
              "      <td>1.450000</td>\n",
              "      <td>NaN</td>\n",
              "      <td>56.413793</td>\n",
              "      <td>NaN</td>\n",
              "      <td>197.000000</td>\n",
              "      <td>17.137931</td>\n",
              "      <td>97.700000</td>\n",
              "      <td>NaN</td>\n",
              "      <td>NaN</td>\n",
              "      <td>96.920000</td>\n",
              "      <td>9.30</td>\n",
              "    </tr>\n",
              "    <tr>\n",
              "      <th>134</th>\n",
              "      <td>217992</td>\n",
              "      <td>58</td>\n",
              "      <td>F</td>\n",
              "      <td>WHITE</td>\n",
              "      <td>EMERGENCY</td>\n",
              "      <td>1</td>\n",
              "      <td>10.50</td>\n",
              "      <td>17.75</td>\n",
              "      <td>0.700000</td>\n",
              "      <td>62.862069</td>\n",
              "      <td>108.515152</td>\n",
              "      <td>2.050000</td>\n",
              "      <td>360.000000</td>\n",
              "      <td>23.593750</td>\n",
              "      <td>96.937500</td>\n",
              "      <td>102.448276</td>\n",
              "      <td>NaN</td>\n",
              "      <td>99.470000</td>\n",
              "      <td>24.55</td>\n",
              "    </tr>\n",
              "  </tbody>\n",
              "</table>\n",
              "<p>135 rows × 19 columns</p>\n",
              "</div>\n",
              "    <div class=\"colab-df-buttons\">\n",
              "\n",
              "  <div class=\"colab-df-container\">\n",
              "    <button class=\"colab-df-convert\" onclick=\"convertToInteractive('df-eceee53d-9d8a-4650-a204-ce731adf6bbe')\"\n",
              "            title=\"Convert this dataframe to an interactive table.\"\n",
              "            style=\"display:none;\">\n",
              "\n",
              "  <svg xmlns=\"http://www.w3.org/2000/svg\" height=\"24px\" viewBox=\"0 -960 960 960\">\n",
              "    <path d=\"M120-120v-720h720v720H120Zm60-500h600v-160H180v160Zm220 220h160v-160H400v160Zm0 220h160v-160H400v160ZM180-400h160v-160H180v160Zm440 0h160v-160H620v160ZM180-180h160v-160H180v160Zm440 0h160v-160H620v160Z\"/>\n",
              "  </svg>\n",
              "    </button>\n",
              "\n",
              "  <style>\n",
              "    .colab-df-container {\n",
              "      display:flex;\n",
              "      gap: 12px;\n",
              "    }\n",
              "\n",
              "    .colab-df-convert {\n",
              "      background-color: #E8F0FE;\n",
              "      border: none;\n",
              "      border-radius: 50%;\n",
              "      cursor: pointer;\n",
              "      display: none;\n",
              "      fill: #1967D2;\n",
              "      height: 32px;\n",
              "      padding: 0 0 0 0;\n",
              "      width: 32px;\n",
              "    }\n",
              "\n",
              "    .colab-df-convert:hover {\n",
              "      background-color: #E2EBFA;\n",
              "      box-shadow: 0px 1px 2px rgba(60, 64, 67, 0.3), 0px 1px 3px 1px rgba(60, 64, 67, 0.15);\n",
              "      fill: #174EA6;\n",
              "    }\n",
              "\n",
              "    .colab-df-buttons div {\n",
              "      margin-bottom: 4px;\n",
              "    }\n",
              "\n",
              "    [theme=dark] .colab-df-convert {\n",
              "      background-color: #3B4455;\n",
              "      fill: #D2E3FC;\n",
              "    }\n",
              "\n",
              "    [theme=dark] .colab-df-convert:hover {\n",
              "      background-color: #434B5C;\n",
              "      box-shadow: 0px 1px 3px 1px rgba(0, 0, 0, 0.15);\n",
              "      filter: drop-shadow(0px 1px 2px rgba(0, 0, 0, 0.3));\n",
              "      fill: #FFFFFF;\n",
              "    }\n",
              "  </style>\n",
              "\n",
              "    <script>\n",
              "      const buttonEl =\n",
              "        document.querySelector('#df-eceee53d-9d8a-4650-a204-ce731adf6bbe button.colab-df-convert');\n",
              "      buttonEl.style.display =\n",
              "        google.colab.kernel.accessAllowed ? 'block' : 'none';\n",
              "\n",
              "      async function convertToInteractive(key) {\n",
              "        const element = document.querySelector('#df-eceee53d-9d8a-4650-a204-ce731adf6bbe');\n",
              "        const dataTable =\n",
              "          await google.colab.kernel.invokeFunction('convertToInteractive',\n",
              "                                                    [key], {});\n",
              "        if (!dataTable) return;\n",
              "\n",
              "        const docLinkHtml = 'Like what you see? Visit the ' +\n",
              "          '<a target=\"_blank\" href=https://colab.research.google.com/notebooks/data_table.ipynb>data table notebook</a>'\n",
              "          + ' to learn more about interactive tables.';\n",
              "        element.innerHTML = '';\n",
              "        dataTable['output_type'] = 'display_data';\n",
              "        await google.colab.output.renderOutput(dataTable, element);\n",
              "        const docLink = document.createElement('div');\n",
              "        docLink.innerHTML = docLinkHtml;\n",
              "        element.appendChild(docLink);\n",
              "      }\n",
              "    </script>\n",
              "  </div>\n",
              "\n",
              "\n",
              "    <div id=\"df-2e2563aa-18c1-43d5-ae30-0a859e964cfd\">\n",
              "      <button class=\"colab-df-quickchart\" onclick=\"quickchart('df-2e2563aa-18c1-43d5-ae30-0a859e964cfd')\"\n",
              "                title=\"Suggest charts\"\n",
              "                style=\"display:none;\">\n",
              "\n",
              "<svg xmlns=\"http://www.w3.org/2000/svg\" height=\"24px\"viewBox=\"0 0 24 24\"\n",
              "     width=\"24px\">\n",
              "    <g>\n",
              "        <path d=\"M19 3H5c-1.1 0-2 .9-2 2v14c0 1.1.9 2 2 2h14c1.1 0 2-.9 2-2V5c0-1.1-.9-2-2-2zM9 17H7v-7h2v7zm4 0h-2V7h2v10zm4 0h-2v-4h2v4z\"/>\n",
              "    </g>\n",
              "</svg>\n",
              "      </button>\n",
              "\n",
              "<style>\n",
              "  .colab-df-quickchart {\n",
              "      --bg-color: #E8F0FE;\n",
              "      --fill-color: #1967D2;\n",
              "      --hover-bg-color: #E2EBFA;\n",
              "      --hover-fill-color: #174EA6;\n",
              "      --disabled-fill-color: #AAA;\n",
              "      --disabled-bg-color: #DDD;\n",
              "  }\n",
              "\n",
              "  [theme=dark] .colab-df-quickchart {\n",
              "      --bg-color: #3B4455;\n",
              "      --fill-color: #D2E3FC;\n",
              "      --hover-bg-color: #434B5C;\n",
              "      --hover-fill-color: #FFFFFF;\n",
              "      --disabled-bg-color: #3B4455;\n",
              "      --disabled-fill-color: #666;\n",
              "  }\n",
              "\n",
              "  .colab-df-quickchart {\n",
              "    background-color: var(--bg-color);\n",
              "    border: none;\n",
              "    border-radius: 50%;\n",
              "    cursor: pointer;\n",
              "    display: none;\n",
              "    fill: var(--fill-color);\n",
              "    height: 32px;\n",
              "    padding: 0;\n",
              "    width: 32px;\n",
              "  }\n",
              "\n",
              "  .colab-df-quickchart:hover {\n",
              "    background-color: var(--hover-bg-color);\n",
              "    box-shadow: 0 1px 2px rgba(60, 64, 67, 0.3), 0 1px 3px 1px rgba(60, 64, 67, 0.15);\n",
              "    fill: var(--button-hover-fill-color);\n",
              "  }\n",
              "\n",
              "  .colab-df-quickchart-complete:disabled,\n",
              "  .colab-df-quickchart-complete:disabled:hover {\n",
              "    background-color: var(--disabled-bg-color);\n",
              "    fill: var(--disabled-fill-color);\n",
              "    box-shadow: none;\n",
              "  }\n",
              "\n",
              "  .colab-df-spinner {\n",
              "    border: 2px solid var(--fill-color);\n",
              "    border-color: transparent;\n",
              "    border-bottom-color: var(--fill-color);\n",
              "    animation:\n",
              "      spin 1s steps(1) infinite;\n",
              "  }\n",
              "\n",
              "  @keyframes spin {\n",
              "    0% {\n",
              "      border-color: transparent;\n",
              "      border-bottom-color: var(--fill-color);\n",
              "      border-left-color: var(--fill-color);\n",
              "    }\n",
              "    20% {\n",
              "      border-color: transparent;\n",
              "      border-left-color: var(--fill-color);\n",
              "      border-top-color: var(--fill-color);\n",
              "    }\n",
              "    30% {\n",
              "      border-color: transparent;\n",
              "      border-left-color: var(--fill-color);\n",
              "      border-top-color: var(--fill-color);\n",
              "      border-right-color: var(--fill-color);\n",
              "    }\n",
              "    40% {\n",
              "      border-color: transparent;\n",
              "      border-right-color: var(--fill-color);\n",
              "      border-top-color: var(--fill-color);\n",
              "    }\n",
              "    60% {\n",
              "      border-color: transparent;\n",
              "      border-right-color: var(--fill-color);\n",
              "    }\n",
              "    80% {\n",
              "      border-color: transparent;\n",
              "      border-right-color: var(--fill-color);\n",
              "      border-bottom-color: var(--fill-color);\n",
              "    }\n",
              "    90% {\n",
              "      border-color: transparent;\n",
              "      border-bottom-color: var(--fill-color);\n",
              "    }\n",
              "  }\n",
              "</style>\n",
              "\n",
              "      <script>\n",
              "        async function quickchart(key) {\n",
              "          const quickchartButtonEl =\n",
              "            document.querySelector('#' + key + ' button');\n",
              "          quickchartButtonEl.disabled = true;  // To prevent multiple clicks.\n",
              "          quickchartButtonEl.classList.add('colab-df-spinner');\n",
              "          try {\n",
              "            const charts = await google.colab.kernel.invokeFunction(\n",
              "                'suggestCharts', [key], {});\n",
              "          } catch (error) {\n",
              "            console.error('Error during call to suggestCharts:', error);\n",
              "          }\n",
              "          quickchartButtonEl.classList.remove('colab-df-spinner');\n",
              "          quickchartButtonEl.classList.add('colab-df-quickchart-complete');\n",
              "        }\n",
              "        (() => {\n",
              "          let quickchartButtonEl =\n",
              "            document.querySelector('#df-2e2563aa-18c1-43d5-ae30-0a859e964cfd button');\n",
              "          quickchartButtonEl.style.display =\n",
              "            google.colab.kernel.accessAllowed ? 'block' : 'none';\n",
              "        })();\n",
              "      </script>\n",
              "    </div>\n",
              "\n",
              "  <div id=\"id_7e9b91c7-b416-488a-811d-780e22fd22bc\">\n",
              "    <style>\n",
              "      .colab-df-generate {\n",
              "        background-color: #E8F0FE;\n",
              "        border: none;\n",
              "        border-radius: 50%;\n",
              "        cursor: pointer;\n",
              "        display: none;\n",
              "        fill: #1967D2;\n",
              "        height: 32px;\n",
              "        padding: 0 0 0 0;\n",
              "        width: 32px;\n",
              "      }\n",
              "\n",
              "      .colab-df-generate:hover {\n",
              "        background-color: #E2EBFA;\n",
              "        box-shadow: 0px 1px 2px rgba(60, 64, 67, 0.3), 0px 1px 3px 1px rgba(60, 64, 67, 0.15);\n",
              "        fill: #174EA6;\n",
              "      }\n",
              "\n",
              "      [theme=dark] .colab-df-generate {\n",
              "        background-color: #3B4455;\n",
              "        fill: #D2E3FC;\n",
              "      }\n",
              "\n",
              "      [theme=dark] .colab-df-generate:hover {\n",
              "        background-color: #434B5C;\n",
              "        box-shadow: 0px 1px 3px 1px rgba(0, 0, 0, 0.15);\n",
              "        filter: drop-shadow(0px 1px 2px rgba(0, 0, 0, 0.3));\n",
              "        fill: #FFFFFF;\n",
              "      }\n",
              "    </style>\n",
              "    <button class=\"colab-df-generate\" onclick=\"generateWithVariable('final_dataset')\"\n",
              "            title=\"Generate code using this dataframe.\"\n",
              "            style=\"display:none;\">\n",
              "\n",
              "  <svg xmlns=\"http://www.w3.org/2000/svg\" height=\"24px\"viewBox=\"0 0 24 24\"\n",
              "       width=\"24px\">\n",
              "    <path d=\"M7,19H8.4L18.45,9,17,7.55,7,17.6ZM5,21V16.75L18.45,3.32a2,2,0,0,1,2.83,0l1.4,1.43a1.91,1.91,0,0,1,.58,1.4,1.91,1.91,0,0,1-.58,1.4L9.25,21ZM18.45,9,17,7.55Zm-12,3A5.31,5.31,0,0,0,4.9,8.1,5.31,5.31,0,0,0,1,6.5,5.31,5.31,0,0,0,4.9,4.9,5.31,5.31,0,0,0,6.5,1,5.31,5.31,0,0,0,8.1,4.9,5.31,5.31,0,0,0,12,6.5,5.46,5.46,0,0,0,6.5,12Z\"/>\n",
              "  </svg>\n",
              "    </button>\n",
              "    <script>\n",
              "      (() => {\n",
              "      const buttonEl =\n",
              "        document.querySelector('#id_7e9b91c7-b416-488a-811d-780e22fd22bc button.colab-df-generate');\n",
              "      buttonEl.style.display =\n",
              "        google.colab.kernel.accessAllowed ? 'block' : 'none';\n",
              "\n",
              "      buttonEl.onclick = () => {\n",
              "        google.colab.notebook.generateWithVariable('final_dataset');\n",
              "      }\n",
              "      })();\n",
              "    </script>\n",
              "  </div>\n",
              "\n",
              "    </div>\n",
              "  </div>\n"
            ],
            "application/vnd.google.colaboratory.intrinsic+json": {
              "type": "dataframe",
              "variable_name": "final_dataset",
              "summary": "{\n  \"name\": \"final_dataset\",\n  \"rows\": 135,\n  \"fields\": [\n    {\n      \"column\": \"icustay_id\",\n      \"properties\": {\n        \"dtype\": \"number\",\n        \"std\": 28534,\n        \"min\": 201006,\n        \"max\": 298685,\n        \"num_unique_values\": 135,\n        \"samples\": [\n          210164,\n          210989,\n          277238\n        ],\n        \"semantic_type\": \"\",\n        \"description\": \"\"\n      }\n    },\n    {\n      \"column\": \"age\",\n      \"properties\": {\n        \"dtype\": \"number\",\n        \"std\": 15,\n        \"min\": 17,\n        \"max\": 90,\n        \"num_unique_values\": 44,\n        \"samples\": [\n          43,\n          66,\n          44\n        ],\n        \"semantic_type\": \"\",\n        \"description\": \"\"\n      }\n    },\n    {\n      \"column\": \"gender\",\n      \"properties\": {\n        \"dtype\": \"category\",\n        \"num_unique_values\": 2,\n        \"samples\": [\n          \"M\",\n          \"F\"\n        ],\n        \"semantic_type\": \"\",\n        \"description\": \"\"\n      }\n    },\n    {\n      \"column\": \"ethnicity\",\n      \"properties\": {\n        \"dtype\": \"category\",\n        \"num_unique_values\": 9,\n        \"samples\": [\n          \"UNABLE TO OBTAIN\",\n          \"UNKNOWN/NOT SPECIFIED\"\n        ],\n        \"semantic_type\": \"\",\n        \"description\": \"\"\n      }\n    },\n    {\n      \"column\": \"admission_type\",\n      \"properties\": {\n        \"dtype\": \"category\",\n        \"num_unique_values\": 3,\n        \"samples\": [\n          \"EMERGENCY\",\n          \"ELECTIVE\"\n        ],\n        \"semantic_type\": \"\",\n        \"description\": \"\"\n      }\n    },\n    {\n      \"column\": \"is_sepsis\",\n      \"properties\": {\n        \"dtype\": \"number\",\n        \"std\": 0,\n        \"min\": 0,\n        \"max\": 1,\n        \"num_unique_values\": 2,\n        \"samples\": [\n          0,\n          1\n        ],\n        \"semantic_type\": \"\",\n        \"description\": \"\"\n      }\n    },\n    {\n      \"column\": \"BUN\",\n      \"properties\": {\n        \"dtype\": \"number\",\n        \"std\": 22.268361882737512,\n        \"min\": 3.0,\n        \"max\": 125.5,\n        \"num_unique_values\": 82,\n        \"samples\": [\n          20.0,\n          11.0\n        ],\n        \"semantic_type\": \"\",\n        \"description\": \"\"\n      }\n    },\n    {\n      \"column\": \"Bicarbonate\",\n      \"properties\": {\n        \"dtype\": \"number\",\n        \"std\": 5.290403200989452,\n        \"min\": 8.0,\n        \"max\": 42.0,\n        \"num_unique_values\": 52,\n        \"samples\": [\n          18.0,\n          30.0\n        ],\n        \"semantic_type\": \"\",\n        \"description\": \"\"\n      }\n    },\n    {\n      \"column\": \"Creatinine\",\n      \"properties\": {\n        \"dtype\": \"number\",\n        \"std\": 1.3046388037034027,\n        \"min\": 0.3,\n        \"max\": 10.766666666666666,\n        \"num_unique_values\": 67,\n        \"samples\": [\n          0.6,\n          1.55\n        ],\n        \"semantic_type\": \"\",\n        \"description\": \"\"\n      }\n    },\n    {\n      \"column\": \"DiaBP\",\n      \"properties\": {\n        \"dtype\": \"number\",\n        \"std\": 9.501382205012328,\n        \"min\": 34.78947368421053,\n        \"max\": 75.43589743589743,\n        \"num_unique_values\": 16,\n        \"samples\": [\n          34.78947368421053,\n          51.35294117647059\n        ],\n        \"semantic_type\": \"\",\n        \"description\": \"\"\n      }\n    },\n    {\n      \"column\": \"HeartRate\",\n      \"properties\": {\n        \"dtype\": \"number\",\n        \"std\": 16.584849994692394,\n        \"min\": 49.291666666666664,\n        \"max\": 126.61363636363636,\n        \"num_unique_values\": 128,\n        \"samples\": [\n          113.07692307692308,\n          81.93333333333334\n        ],\n        \"semantic_type\": \"\",\n        \"description\": \"\"\n      }\n    },\n    {\n      \"column\": \"Lactate\",\n      \"properties\": {\n        \"dtype\": \"number\",\n        \"std\": 2.716252791435284,\n        \"min\": 0.8,\n        \"max\": 16.8125,\n        \"num_unique_values\": 41,\n        \"samples\": [\n          8.5,\n          1.6\n        ],\n        \"semantic_type\": \"\",\n        \"description\": \"\"\n      }\n    },\n    {\n      \"column\": \"Platelets\",\n      \"properties\": {\n        \"dtype\": \"number\",\n        \"std\": 86.36784915853724,\n        \"min\": 34.0,\n        \"max\": 452.0,\n        \"num_unique_values\": 120,\n        \"samples\": [\n          44.0,\n          103.71428571428571\n        ],\n        \"semantic_type\": \"\",\n        \"description\": \"\"\n      }\n    },\n    {\n      \"column\": \"RespRate\",\n      \"properties\": {\n        \"dtype\": \"number\",\n        \"std\": 4.9781166087148385,\n        \"min\": 11.4,\n        \"max\": 33.72727272727273,\n        \"num_unique_values\": 129,\n        \"samples\": [\n          11.884615384615385,\n          14.8\n        ],\n        \"semantic_type\": \"\",\n        \"description\": \"\"\n      }\n    },\n    {\n      \"column\": \"SpO2\",\n      \"properties\": {\n        \"dtype\": \"number\",\n        \"std\": 3.68066557197131,\n        \"min\": 73.25,\n        \"max\": 99.95454545454545,\n        \"num_unique_values\": 124,\n        \"samples\": [\n          97.44444444444444,\n          94.27272727272727\n        ],\n        \"semantic_type\": \"\",\n        \"description\": \"\"\n      }\n    },\n    {\n      \"column\": \"SysBP\",\n      \"properties\": {\n        \"dtype\": \"number\",\n        \"std\": 27.868432243501815,\n        \"min\": 0.0,\n        \"max\": 154.66666666666666,\n        \"num_unique_values\": 39,\n        \"samples\": [\n          141.30769230769232,\n          101.0\n        ],\n        \"semantic_type\": \"\",\n        \"description\": \"\"\n      }\n    },\n    {\n      \"column\": \"TemperatureC\",\n      \"properties\": {\n        \"dtype\": \"number\",\n        \"std\": 1.3916578305271767,\n        \"min\": 93.5,\n        \"max\": 101.11818070845166,\n        \"num_unique_values\": 54,\n        \"samples\": [\n          98.38750076293945,\n          98.46666717529297\n        ],\n        \"semantic_type\": \"\",\n        \"description\": \"\"\n      }\n    },\n    {\n      \"column\": \"TemperatureF\",\n      \"properties\": {\n        \"dtype\": \"number\",\n        \"std\": 1.2569403454369028,\n        \"min\": 94.66,\n        \"max\": 102.26,\n        \"num_unique_values\": 70,\n        \"samples\": [\n          98.8,\n          96.18333333333334\n        ],\n        \"semantic_type\": \"\",\n        \"description\": \"\"\n      }\n    },\n    {\n      \"column\": \"WBC\",\n      \"properties\": {\n        \"dtype\": \"number\",\n        \"std\": 7.721635115542449,\n        \"min\": 0.7,\n        \"max\": 61.5,\n        \"num_unique_values\": 110,\n        \"samples\": [\n          24.0,\n          7.65\n        ],\n        \"semantic_type\": \"\",\n        \"description\": \"\"\n      }\n    }\n  ]\n}"
            }
          },
          "metadata": {},
          "execution_count": 19
        }
      ]
    },
    {
      "cell_type": "code",
      "source": [
        "final_dataset.info()"
      ],
      "metadata": {
        "colab": {
          "base_uri": "https://localhost:8080/"
        },
        "id": "FchUAeWydy3F",
        "outputId": "3cecf636-5ed1-41c1-d985-d19b3bb51c00"
      },
      "execution_count": null,
      "outputs": [
        {
          "output_type": "stream",
          "name": "stdout",
          "text": [
            "<class 'pandas.core.frame.DataFrame'>\n",
            "RangeIndex: 135 entries, 0 to 134\n",
            "Data columns (total 19 columns):\n",
            " #   Column          Non-Null Count  Dtype  \n",
            "---  ------          --------------  -----  \n",
            " 0   icustay_id      135 non-null    int64  \n",
            " 1   age             135 non-null    int64  \n",
            " 2   gender          135 non-null    object \n",
            " 3   ethnicity       135 non-null    object \n",
            " 4   admission_type  135 non-null    object \n",
            " 5   is_sepsis       135 non-null    int64  \n",
            " 6   BUN             131 non-null    float64\n",
            " 7   Bicarbonate     132 non-null    float64\n",
            " 8   Creatinine      132 non-null    float64\n",
            " 9   DiaBP           16 non-null     float64\n",
            " 10  HeartRate       132 non-null    float64\n",
            " 11  Lactate         62 non-null     float64\n",
            " 12  Platelets       131 non-null    float64\n",
            " 13  RespRate        132 non-null    float64\n",
            " 14  SpO2            132 non-null    float64\n",
            " 15  SysBP           39 non-null     float64\n",
            " 16  TemperatureC    54 non-null     float64\n",
            " 17  TemperatureF    75 non-null     float64\n",
            " 18  WBC             131 non-null    float64\n",
            "dtypes: float64(13), int64(3), object(3)\n",
            "memory usage: 20.2+ KB\n"
          ]
        }
      ]
    },
    {
      "cell_type": "code",
      "source": [
        "final_dataset.isnull().sum()"
      ],
      "metadata": {
        "colab": {
          "base_uri": "https://localhost:8080/",
          "height": 680
        },
        "id": "4JA3oPLNmqSU",
        "outputId": "f6fb6b97-8941-4418-f8eb-49251004c329"
      },
      "execution_count": null,
      "outputs": [
        {
          "output_type": "execute_result",
          "data": {
            "text/plain": [
              "icustay_id          0\n",
              "age                 0\n",
              "gender              0\n",
              "ethnicity           0\n",
              "admission_type      0\n",
              "is_sepsis           0\n",
              "BUN                 4\n",
              "Bicarbonate         3\n",
              "Creatinine          3\n",
              "DiaBP             119\n",
              "HeartRate           3\n",
              "Lactate            73\n",
              "Platelets           4\n",
              "RespRate            3\n",
              "SpO2                3\n",
              "SysBP              96\n",
              "TemperatureC       81\n",
              "TemperatureF       60\n",
              "WBC                 4\n",
              "dtype: int64"
            ],
            "text/html": [
              "<div>\n",
              "<style scoped>\n",
              "    .dataframe tbody tr th:only-of-type {\n",
              "        vertical-align: middle;\n",
              "    }\n",
              "\n",
              "    .dataframe tbody tr th {\n",
              "        vertical-align: top;\n",
              "    }\n",
              "\n",
              "    .dataframe thead th {\n",
              "        text-align: right;\n",
              "    }\n",
              "</style>\n",
              "<table border=\"1\" class=\"dataframe\">\n",
              "  <thead>\n",
              "    <tr style=\"text-align: right;\">\n",
              "      <th></th>\n",
              "      <th>0</th>\n",
              "    </tr>\n",
              "  </thead>\n",
              "  <tbody>\n",
              "    <tr>\n",
              "      <th>icustay_id</th>\n",
              "      <td>0</td>\n",
              "    </tr>\n",
              "    <tr>\n",
              "      <th>age</th>\n",
              "      <td>0</td>\n",
              "    </tr>\n",
              "    <tr>\n",
              "      <th>gender</th>\n",
              "      <td>0</td>\n",
              "    </tr>\n",
              "    <tr>\n",
              "      <th>ethnicity</th>\n",
              "      <td>0</td>\n",
              "    </tr>\n",
              "    <tr>\n",
              "      <th>admission_type</th>\n",
              "      <td>0</td>\n",
              "    </tr>\n",
              "    <tr>\n",
              "      <th>is_sepsis</th>\n",
              "      <td>0</td>\n",
              "    </tr>\n",
              "    <tr>\n",
              "      <th>BUN</th>\n",
              "      <td>4</td>\n",
              "    </tr>\n",
              "    <tr>\n",
              "      <th>Bicarbonate</th>\n",
              "      <td>3</td>\n",
              "    </tr>\n",
              "    <tr>\n",
              "      <th>Creatinine</th>\n",
              "      <td>3</td>\n",
              "    </tr>\n",
              "    <tr>\n",
              "      <th>DiaBP</th>\n",
              "      <td>119</td>\n",
              "    </tr>\n",
              "    <tr>\n",
              "      <th>HeartRate</th>\n",
              "      <td>3</td>\n",
              "    </tr>\n",
              "    <tr>\n",
              "      <th>Lactate</th>\n",
              "      <td>73</td>\n",
              "    </tr>\n",
              "    <tr>\n",
              "      <th>Platelets</th>\n",
              "      <td>4</td>\n",
              "    </tr>\n",
              "    <tr>\n",
              "      <th>RespRate</th>\n",
              "      <td>3</td>\n",
              "    </tr>\n",
              "    <tr>\n",
              "      <th>SpO2</th>\n",
              "      <td>3</td>\n",
              "    </tr>\n",
              "    <tr>\n",
              "      <th>SysBP</th>\n",
              "      <td>96</td>\n",
              "    </tr>\n",
              "    <tr>\n",
              "      <th>TemperatureC</th>\n",
              "      <td>81</td>\n",
              "    </tr>\n",
              "    <tr>\n",
              "      <th>TemperatureF</th>\n",
              "      <td>60</td>\n",
              "    </tr>\n",
              "    <tr>\n",
              "      <th>WBC</th>\n",
              "      <td>4</td>\n",
              "    </tr>\n",
              "  </tbody>\n",
              "</table>\n",
              "</div><br><label><b>dtype:</b> int64</label>"
            ]
          },
          "metadata": {},
          "execution_count": 21
        }
      ]
    },
    {
      "cell_type": "code",
      "source": [
        "# Fahrenhayt'tan Santigrat'a çevirme\n",
        "temp_f_in_c = (final_dataset['TemperatureF'] - 32) * 5/9\n",
        "final_dataset['Temperature'] = np.where(final_dataset['TemperatureC'].isnull(),\n",
        "                                        temp_f_in_c,\n",
        "                                        final_dataset['TemperatureC'])\n",
        "\n",
        "final_dataset = final_dataset.drop(columns=['TemperatureC', 'TemperatureF'])\n",
        "\n",
        "print(\"Sıcaklık sütunları birleştirildikten sonra eksik veri durumu:\")\n",
        "print(final_dataset.isnull().sum())"
      ],
      "metadata": {
        "colab": {
          "base_uri": "https://localhost:8080/"
        },
        "id": "jqTmsmdPm0UO",
        "outputId": "144bb55a-2afa-4798-fae4-fa9cbd24578a"
      },
      "execution_count": null,
      "outputs": [
        {
          "output_type": "stream",
          "name": "stdout",
          "text": [
            "Sıcaklık sütunları birleştirildikten sonra eksik veri durumu:\n",
            "icustay_id          0\n",
            "age                 0\n",
            "gender              0\n",
            "ethnicity           0\n",
            "admission_type      0\n",
            "is_sepsis           0\n",
            "BUN                 4\n",
            "Bicarbonate         3\n",
            "Creatinine          3\n",
            "DiaBP             119\n",
            "HeartRate           3\n",
            "Lactate            73\n",
            "Platelets           4\n",
            "RespRate            3\n",
            "SpO2                3\n",
            "SysBP              96\n",
            "WBC                 4\n",
            "Temperature         6\n",
            "dtype: int64\n"
          ]
        }
      ]
    },
    {
      "cell_type": "code",
      "source": [
        "from sklearn.model_selection import train_test_split\n",
        "from sklearn.impute import SimpleImputer\n",
        "\n",
        "X = final_dataset.drop(columns=['is_sepsis', 'icustay_id'])\n",
        "y = final_dataset['is_sepsis']\n",
        "\n",
        "X_train, X_test, y_train, y_test = train_test_split(X, y, test_size=0.2, random_state=42, stratify=y)\n",
        "\n",
        "numerical_cols = X_train.select_dtypes(include=np.number).columns.tolist()\n",
        "categorical_cols = X_train.select_dtypes(exclude=np.number).columns.tolist()\n",
        "\n",
        "imputer = SimpleImputer(strategy='median')\n",
        "\n",
        "X_train[numerical_cols] = imputer.fit_transform(X_train[numerical_cols])\n",
        "\n",
        "X_test[numerical_cols] = imputer.transform(X_test[numerical_cols])\n",
        "\n",
        "print(\"\\nEğitim seti eksik veri kontrolü:\")\n",
        "print(X_train.isnull().sum())"
      ],
      "metadata": {
        "colab": {
          "base_uri": "https://localhost:8080/"
        },
        "id": "3SLyi9W0pUAc",
        "outputId": "32adb512-0509-4f03-92b0-9b57ff6c0da7"
      },
      "execution_count": null,
      "outputs": [
        {
          "output_type": "stream",
          "name": "stdout",
          "text": [
            "\n",
            "Eğitim seti eksik veri kontrolü:\n",
            "age               0\n",
            "gender            0\n",
            "ethnicity         0\n",
            "admission_type    0\n",
            "BUN               0\n",
            "Bicarbonate       0\n",
            "Creatinine        0\n",
            "DiaBP             0\n",
            "HeartRate         0\n",
            "Lactate           0\n",
            "Platelets         0\n",
            "RespRate          0\n",
            "SpO2              0\n",
            "SysBP             0\n",
            "WBC               0\n",
            "Temperature       0\n",
            "dtype: int64\n"
          ]
        }
      ]
    },
    {
      "cell_type": "code",
      "source": [
        "X_train = pd.get_dummies(X_train, columns=categorical_cols, drop_first=True)\n",
        "X_test = pd.get_dummies(X_test, columns=categorical_cols, drop_first=True)\n",
        "\n",
        "train_cols = X_train.columns\n",
        "test_cols = X_test.columns\n",
        "\n",
        "missing_in_test = set(train_cols) - set(test_cols)\n",
        "for c in missing_in_test:\n",
        "    X_test[c] = 0\n",
        "\n",
        "missing_in_train = set(test_cols) - set(train_cols)\n",
        "for c in missing_in_train:\n",
        "    X_train[c] = 0\n",
        "\n",
        "X_test = X_test[train_cols] # Sütun sıralarını aynı yap\n",
        "\n",
        "print(\"\\nModel için hazır eğitim verisinin ilk 5 satırı:\")\n",
        "print(X_train.head())"
      ],
      "metadata": {
        "colab": {
          "base_uri": "https://localhost:8080/"
        },
        "id": "NJkOrD2BpbT4",
        "outputId": "5aecc945-ebf9-4cc1-9011-ece13ad19dbd"
      },
      "execution_count": null,
      "outputs": [
        {
          "output_type": "stream",
          "name": "stdout",
          "text": [
            "\n",
            "Model için hazır eğitim verisinin ilk 5 satırı:\n",
            "      age        BUN  Bicarbonate  Creatinine      DiaBP  HeartRate  Lactate  \\\n",
            "8    88.0  38.000000    25.000000    1.700000  54.686636  94.500000     1.55   \n",
            "98   43.0  52.333333    17.333333    2.233333  54.686636  96.166667     1.55   \n",
            "81   62.0  13.428571    16.142857    0.514286  54.516129  90.140625     7.00   \n",
            "133  73.0  23.000000    26.500000    1.450000  54.686636  56.413793     1.55   \n",
            "38   72.0  24.000000    21.000000    0.500000  54.686636  96.521739     1.55   \n",
            "\n",
            "      Platelets   RespRate       SpO2  ...  ethnicity_ASIAN  \\\n",
            "8    129.000000  21.636364  97.147059  ...            False   \n",
            "98    96.666667  15.333333  99.875000  ...            False   \n",
            "81   192.875000  17.618182  96.470588  ...            False   \n",
            "133  197.000000  17.137931  97.700000  ...            False   \n",
            "38   186.000000  16.782609  96.826087  ...            False   \n",
            "\n",
            "     ethnicity_BLACK/AFRICAN AMERICAN  ethnicity_HISPANIC OR LATINO  \\\n",
            "8                               False                         False   \n",
            "98                              False                         False   \n",
            "81                              False                         False   \n",
            "133                             False                         False   \n",
            "38                              False                         False   \n",
            "\n",
            "     ethnicity_HISPANIC/LATINO - PUERTO RICAN  ethnicity_OTHER  \\\n",
            "8                                       False            False   \n",
            "98                                      False            False   \n",
            "81                                       True            False   \n",
            "133                                     False            False   \n",
            "38                                      False            False   \n",
            "\n",
            "     ethnicity_UNKNOWN/NOT SPECIFIED  ethnicity_WHITE  \\\n",
            "8                              False             True   \n",
            "98                             False            False   \n",
            "81                             False            False   \n",
            "133                            False             True   \n",
            "38                             False             True   \n",
            "\n",
            "     admission_type_EMERGENCY  admission_type_URGENT  \\\n",
            "8                        True                  False   \n",
            "98                       True                  False   \n",
            "81                       True                  False   \n",
            "133                      True                  False   \n",
            "38                       True                  False   \n",
            "\n",
            "     ethnicity_UNABLE TO OBTAIN  \n",
            "8                             0  \n",
            "98                            0  \n",
            "81                            0  \n",
            "133                           0  \n",
            "38                            0  \n",
            "\n",
            "[5 rows x 24 columns]\n"
          ]
        }
      ]
    },
    {
      "cell_type": "markdown",
      "source": [
        "# Model"
      ],
      "metadata": {
        "id": "bQrRw9jZpmxH"
      }
    },
    {
      "cell_type": "code",
      "source": [
        "numerical_cols = X_train.select_dtypes(include=np.number).columns.tolist()\n",
        "categorical_cols = X_train.select_dtypes(exclude=np.number).columns.tolist()\n",
        "\n",
        "X_train_encoded = pd.get_dummies(X_train, columns=categorical_cols, drop_first=True)\n",
        "X_test_encoded = pd.get_dummies(X_test, columns=categorical_cols, drop_first=True)\n",
        "\n",
        "final_train_cols = X_train_encoded.columns\n",
        "X_test_aligned = X_test_encoded.reindex(columns=final_train_cols, fill_value=0)\n",
        "\n",
        "X_train = X_train_encoded\n",
        "X_test = X_test_aligned\n",
        "\n",
        "print(\"Eğitim seti sütun sayısı:\", len(X_train.columns))\n",
        "print(\"Test seti sütun sayısı:\", len(X_test.columns))\n",
        "print(\"Sütunlar aynı mı?\", X_train.columns.equals(X_test.columns))"
      ],
      "metadata": {
        "colab": {
          "base_uri": "https://localhost:8080/"
        },
        "id": "_8WDY1l2pepB",
        "outputId": "5cb6ad6a-f023-44ca-b41c-1476bdbad4c2"
      },
      "execution_count": null,
      "outputs": [
        {
          "output_type": "stream",
          "name": "stdout",
          "text": [
            "Eğitim seti sütun sayısı: 24\n",
            "Test seti sütun sayısı: 24\n",
            "Sütunlar aynı mı? True\n"
          ]
        }
      ]
    },
    {
      "cell_type": "code",
      "source": [
        "from sklearn.preprocessing import StandardScaler\n",
        "\n",
        "scaler = StandardScaler()\n",
        "X_train_scaled = scaler.fit_transform(X_train)\n",
        "\n",
        "X_test_scaled = scaler.transform(X_test)\n",
        "\n",
        "print(\"\\nÖlçeklendirme başarıyla tamamlandı!\")"
      ],
      "metadata": {
        "colab": {
          "base_uri": "https://localhost:8080/"
        },
        "id": "5-lBU9D3viMx",
        "outputId": "379f0316-f1af-4db9-9621-05d6664905e3"
      },
      "execution_count": null,
      "outputs": [
        {
          "output_type": "stream",
          "name": "stdout",
          "text": [
            "\n",
            "Ölçeklendirme başarıyla tamamlandı!\n"
          ]
        }
      ]
    },
    {
      "cell_type": "markdown",
      "source": [
        "# Model Seçimi (Lojisitk Regresyon)"
      ],
      "metadata": {
        "id": "XLhZ7ueaqZj1"
      }
    },
    {
      "cell_type": "code",
      "source": [
        "from sklearn.linear_model import LogisticRegression\n",
        "from sklearn.metrics import classification_report, roc_auc_score, roc_curve\n",
        "import matplotlib.pyplot as plt\n",
        "\n",
        "log_reg = LogisticRegression(random_state=42, class_weight='balanced', max_iter=1000)\n",
        "log_reg.fit(X_train_scaled, y_train)\n",
        "\n",
        "y_pred_log_reg = log_reg.predict(X_test_scaled)\n",
        "y_pred_proba_log_reg = log_reg.predict_proba(X_test_scaled)[:, 1]"
      ],
      "metadata": {
        "id": "Nkqr3fGZp9gt"
      },
      "execution_count": null,
      "outputs": []
    },
    {
      "cell_type": "code",
      "source": [
        "print(\"--- Lojistik Regresyon Sonuçları ---\")\n",
        "print(classification_report(y_test, y_pred_log_reg))\n",
        "auc_log_reg = roc_auc_score(y_test, y_pred_proba_log_reg)\n",
        "print(f\"Lojistik Regresyon AUC Skoru: {auc_log_reg:.4f}\")"
      ],
      "metadata": {
        "colab": {
          "base_uri": "https://localhost:8080/"
        },
        "id": "Vcsta8fCqoI4",
        "outputId": "92fe403c-c021-4505-e3a5-ee0f5c7149d6"
      },
      "execution_count": null,
      "outputs": [
        {
          "output_type": "stream",
          "name": "stdout",
          "text": [
            "--- Lojistik Regresyon Sonuçları ---\n",
            "              precision    recall  f1-score   support\n",
            "\n",
            "           0       0.76      0.84      0.80        19\n",
            "           1       0.50      0.38      0.43         8\n",
            "\n",
            "    accuracy                           0.70        27\n",
            "   macro avg       0.63      0.61      0.61        27\n",
            "weighted avg       0.68      0.70      0.69        27\n",
            "\n",
            "Lojistik Regresyon AUC Skoru: 0.7632\n"
          ]
        }
      ]
    },
    {
      "cell_type": "markdown",
      "source": [
        "# Model Seçimi (Random Forest)"
      ],
      "metadata": {
        "id": "FbMeGSOequH3"
      }
    },
    {
      "cell_type": "code",
      "source": [
        "from sklearn.ensemble import RandomForestClassifier\n",
        "\n",
        "rf_clf = RandomForestClassifier(n_estimators=100, random_state=42, class_weight='balanced')\n",
        "rf_clf.fit(X_train_scaled, y_train)\n",
        "\n",
        "y_pred_rf = rf_clf.predict(X_test_scaled)\n",
        "y_pred_proba_rf = rf_clf.predict_proba(X_test_scaled)[:, 1]"
      ],
      "metadata": {
        "id": "wslIm7F-qs6t"
      },
      "execution_count": null,
      "outputs": []
    },
    {
      "cell_type": "code",
      "source": [
        "print(\"\\n--- Random Forest Sonuçları ---\")\n",
        "print(classification_report(y_test, y_pred_rf))\n",
        "auc_rf = roc_auc_score(y_test, y_pred_proba_rf)\n",
        "print(f\"Random Forest AUC Skoru: {auc_rf:.4f}\")"
      ],
      "metadata": {
        "colab": {
          "base_uri": "https://localhost:8080/"
        },
        "id": "3cd1ReFTrBEX",
        "outputId": "7094fe38-0dca-4e43-a11d-bb4eb48ffb30"
      },
      "execution_count": null,
      "outputs": [
        {
          "output_type": "stream",
          "name": "stdout",
          "text": [
            "\n",
            "--- Random Forest Sonuçları ---\n",
            "              precision    recall  f1-score   support\n",
            "\n",
            "           0       0.75      0.95      0.84        19\n",
            "           1       0.67      0.25      0.36         8\n",
            "\n",
            "    accuracy                           0.74        27\n",
            "   macro avg       0.71      0.60      0.60        27\n",
            "weighted avg       0.73      0.74      0.70        27\n",
            "\n",
            "Random Forest AUC Skoru: 0.7105\n"
          ]
        }
      ]
    },
    {
      "cell_type": "code",
      "source": [
        "fpr_log, tpr_log, _ = roc_curve(y_test, y_pred_proba_log_reg)\n",
        "fpr_rf, tpr_rf, _ = roc_curve(y_test, y_pred_proba_rf)\n",
        "\n",
        "plt.figure(figsize=(8, 6))\n",
        "plt.plot(fpr_log, tpr_log, label=f'Lojistik Regresyon (AUC = {auc_log_reg:.2f})')\n",
        "plt.plot(fpr_rf, tpr_rf, label=f'Random Forest (AUC = {auc_rf:.2f})')\n",
        "plt.plot([0, 1], [0, 1], 'k--') # rastgele tahmin çizgisi (0.5)\n",
        "plt.xlabel('Yanlış Pozitif Oranı (False Positive Rate)')\n",
        "plt.ylabel('Gerçek Pozitif Oranı (True Positive Rate)')\n",
        "plt.title('ROC Eğrisi')\n",
        "plt.legend()\n",
        "plt.show()"
      ],
      "metadata": {
        "colab": {
          "base_uri": "https://localhost:8080/",
          "height": 564
        },
        "id": "sLZTHM8-rDVn",
        "outputId": "1a59838e-7dfe-44e5-bf8f-5daf1fadfe9b"
      },
      "execution_count": null,
      "outputs": [
        {
          "output_type": "display_data",
          "data": {
            "text/plain": [
              "<Figure size 800x600 with 1 Axes>"
            ],
            "image/png": "[encoded data removed]"
          },
          "metadata": {}
        }
      ]
    },
    {
      "cell_type": "code",
      "source": [
        "from sklearn.model_selection import GridSearchCV\n",
        "\n",
        "rf_clf = RandomForestClassifier(random_state=42, class_weight='balanced')\n",
        "\n",
        "param_grid = {\n",
        "    'n_estimators': [100, 200, 300],\n",
        "    'max_depth': [10, 20, None],\n",
        "    'min_samples_leaf': [1, 2, 4],\n",
        "    'max_features': ['sqrt', 'log2']\n",
        "}\n",
        "\n",
        "grid_search = GridSearchCV(estimator=rf_clf, param_grid=param_grid, cv=5, scoring='roc_auc', n_jobs=-1, verbose=2)\n",
        "grid_search.fit(X_train_scaled, y_train)\n",
        "\n",
        "print(\"En iyi parametreler:\", grid_search.best_params_)\n",
        "print(\"En iyi AUC skoru (Çapraz Doğrulama ile):\", grid_search.best_score_)\n",
        "\n",
        "best_rf_model = grid_search.best_estimator_\n",
        "\n",
        "y_pred_best_rf = best_rf_model.predict(X_test_scaled)"
      ],
      "metadata": {
        "colab": {
          "base_uri": "https://localhost:8080/"
        },
        "id": "dhcS761crH3f",
        "outputId": "aa933bde-94d5-4dfb-9bb1-a43c4956000e"
      },
      "execution_count": null,
      "outputs": [
        {
          "output_type": "stream",
          "name": "stdout",
          "text": [
            "Fitting 5 folds for each of 54 candidates, totalling 270 fits\n",
            "En iyi parametreler: {'max_depth': 10, 'max_features': 'sqrt', 'min_samples_leaf': 4, 'n_estimators': 200}\n",
            "En iyi AUC skoru (Çapraz Doğrulama ile): 0.8861111111111111\n"
          ]
        }
      ]
    },
    {
      "cell_type": "code",
      "source": [
        "import xgboost as xgb\n",
        "\n",
        "scale_pos_weight = (y_train == 0).sum() / (y_train == 1).sum()\n",
        "\n",
        "xgb_clf = xgb.XGBClassifier(\n",
        "    objective='binary:logistic',\n",
        "    use_label_encoder=False,\n",
        "    eval_metric='logloss',\n",
        "    scale_pos_weight=scale_pos_weight, # Dengesizliğe karşı hassaslaştırır\n",
        "    random_state=42\n",
        ")\n",
        "\n",
        "xgb_clf.fit(X_train_scaled, y_train)\n",
        "\n",
        "y_pred_xgb = xgb_clf.predict(X_test_scaled)\n",
        "print(\"\\n--- XGBoost Sonuçları ---\")\n",
        "print(classification_report(y_test, y_pred_xgb))"
      ],
      "metadata": {
        "colab": {
          "base_uri": "https://localhost:8080/"
        },
        "id": "zMgtCRoard3M",
        "outputId": "a2d52f55-5399-4168-c2f5-bff4a4c41e2d"
      },
      "execution_count": null,
      "outputs": [
        {
          "output_type": "stream",
          "name": "stdout",
          "text": [
            "\n",
            "--- XGBoost Sonuçları ---\n",
            "              precision    recall  f1-score   support\n",
            "\n",
            "           0       0.83      0.79      0.81        19\n",
            "           1       0.56      0.62      0.59         8\n",
            "\n",
            "    accuracy                           0.74        27\n",
            "   macro avg       0.69      0.71      0.70        27\n",
            "weighted avg       0.75      0.74      0.74        27\n",
            "\n"
          ]
        },
        {
          "output_type": "stream",
          "name": "stderr",
          "text": [
            "/usr/local/lib/python3.11/dist-packages/xgboost/core.py:158: UserWarning: [10:30:06] WARNING: /workspace/src/learner.cc:740: \n",
            "Parameters: { \"use_label_encoder\" } are not used.\n",
            "\n",
            "  warnings.warn(smsg, UserWarning)\n"
          ]
        }
      ]
    },
    {
      "cell_type": "markdown",
      "source": [
        "# Veriyi Zenginleştirme"
      ],
      "metadata": {
        "id": "CkzSaXv6tXDS"
      }
    },
    {
      "cell_type": "code",
      "source": [
        "final_features = features_first_24h.pivot_table(\n",
        "    index='icustay_id',\n",
        "    columns='label',\n",
        "    values='valuenum',\n",
        "    aggfunc=['mean', 'std', 'min', 'max'] # Birden fazla fonksiyonu liste olarak verin\n",
        ").reset_index()\n",
        "\n",
        "final_features.columns = ['_'.join(col).strip() for col in final_features.columns.values]"
      ],
      "metadata": {
        "id": "wJuJ6c_Os_O_"
      },
      "execution_count": null,
      "outputs": []
    },
    {
      "cell_type": "code",
      "source": [
        "from imblearn.over_sampling import SMOTE\n",
        "from imblearn.pipeline import Pipeline\n",
        "\n",
        "pipeline = Pipeline([\n",
        "    ('smote', SMOTE(random_state=42)),\n",
        "    ('scaler', StandardScaler()),\n",
        "    ('classifier', RandomForestClassifier(random_state=42, class_weight='balanced')) # class_weight'ı yine de tutmak faydalı olabilir\n",
        "])\n",
        "\n",
        "pipeline.fit(X_train, y_train)\n",
        "\n",
        "y_pred_pipeline = pipeline.predict(X_test)\n",
        "print(classification_report(y_test, y_pred_pipeline))"
      ],
      "metadata": {
        "colab": {
          "base_uri": "https://localhost:8080/"
        },
        "id": "kEPDrOYStat3",
        "outputId": "9ff5c537-cfb9-4744-c3ba-aa819f981bc1"
      },
      "execution_count": null,
      "outputs": [
        {
          "output_type": "stream",
          "name": "stdout",
          "text": [
            "              precision    recall  f1-score   support\n",
            "\n",
            "           0       0.81      0.89      0.85        19\n",
            "           1       0.67      0.50      0.57         8\n",
            "\n",
            "    accuracy                           0.78        27\n",
            "   macro avg       0.74      0.70      0.71        27\n",
            "weighted avg       0.77      0.78      0.77        27\n",
            "\n"
          ]
        }
      ]
    },
    {
      "cell_type": "markdown",
      "source": [
        "# OUTPUTEVENTS Veri Seti Eklenmesi"
      ],
      "metadata": {
        "id": "nnptpMwEuRra"
      }
    },
    {
      "cell_type": "code",
      "source": [
        "import pandas as pd\n",
        "import numpy as np\n",
        "\n",
        "try:\n",
        "    outputevents = pd.read_csv('OUTPUTEVENTS.csv', parse_dates=['charttime'])\n",
        "    d_items = pd.read_csv('D_ITEMS.csv')\n",
        "except FileNotFoundError:\n",
        "    print(\"Lütfen OUTPUTEVENTS.csv ve D_ITEMS.csv dosyalarının doğru klasörde olduğundan emin olun.\")\n",
        "    # Bu blok, dosya bulunamazsa programın çökmesini engeller.\n",
        "\n",
        "urine_itemids = [\n",
        "    40055,  # Urine Out Foley\n",
        "    43175,  # Urine .\"\n",
        "    40069,  # Urine Out Void\n",
        "    40094,  # Urine Out Condom Cath\n",
        "    40715,  # Urine Out Suprapubic\n",
        "    40473,  # Urine Out Ileo-conduit\n",
        "    40085,  # Urine Out Incontinent\n",
        "    40057,  # Urine Out Rt Nephrostomy\n",
        "    40056,  # Urine Out Lt Nephrostomy\n",
        "    40405,  # Urine Out Other\n",
        "    40428,  # Urine Out Straight Cath\n",
        "    40086,  # Urine Out Urostomy\n",
        "    226559, # Urine Output\n",
        "    226560, # Urine Output C\n",
        "    226561, # Urine Output D\n",
        "    227488, # Urine Output O\n",
        "    226563, # Urine Output R\n",
        "]\n",
        "\n",
        "urine_output = outputevents[outputevents['itemid'].isin(urine_itemids)]\n",
        "urine_output = urine_output[['icustay_id', 'charttime', 'value']]\n",
        "urine_output.columns = ['icustay_id', 'charttime', 'value']\n",
        "\n",
        "urine_output = pd.merge(urine_output, cohort[['icustay_id', 'intime']], on='icustay_id', how='left')\n",
        "\n",
        "urine_output['hours_since_admit'] = (urine_output['charttime'] - urine_output['intime']).dt.total_seconds() / 3600\n",
        "\n",
        "urine_first_24h = urine_output[\n",
        "    (urine_output['hours_since_admit'] >= 0) & (urine_output['hours_since_admit'] <= 24)\n",
        "]\n",
        "\n",
        "urine_total_24h = urine_first_24h.groupby('icustay_id')['value'].sum().reset_index()\n",
        "urine_total_24h = urine_total_24h.rename(columns={'value': 'urine_output_24h'})\n",
        "\n",
        "print(\"Önceki veri seti boyutu:\", final_dataset.shape)\n",
        "print(\"Önceki sütunlar:\", final_dataset.columns.tolist())\n",
        "\n",
        "\n",
        "final_dataset = pd.merge(final_dataset, urine_total_24h, on='icustay_id', how='left')\n",
        "final_dataset['urine_output_24h'] = final_dataset['urine_output_24h'].fillna(0)\n",
        "\n",
        "print(\"\\nSonraki veri seti boyutu:\", final_dataset.shape)\n",
        "print(\"Yeni eklenen sütunla sütunlar:\", final_dataset.columns.tolist())\n",
        "print(\"\\n'urine_output_24h' sütunundaki eksik veri sayısı:\", final_dataset['urine_output_24h'].isnull().sum())\n",
        "print(\"\\nİşlem tamamlandı! 'urine_output_24h' özelliği eklendi.\")"
      ],
      "metadata": {
        "colab": {
          "base_uri": "https://localhost:8080/"
        },
        "id": "qVj5PAwYtj99",
        "outputId": "bcce415a-dcc8-4e73-e342-f7e848791658"
      },
      "execution_count": null,
      "outputs": [
        {
          "output_type": "stream",
          "name": "stdout",
          "text": [
            "Önceki veri seti boyutu: (135, 18)\n",
            "Önceki sütunlar: ['icustay_id', 'age', 'gender', 'ethnicity', 'admission_type', 'is_sepsis', 'BUN', 'Bicarbonate', 'Creatinine', 'DiaBP', 'HeartRate', 'Lactate', 'Platelets', 'RespRate', 'SpO2', 'SysBP', 'WBC', 'Temperature']\n",
            "\n",
            "Sonraki veri seti boyutu: (135, 19)\n",
            "Yeni eklenen sütunla sütunlar: ['icustay_id', 'age', 'gender', 'ethnicity', 'admission_type', 'is_sepsis', 'BUN', 'Bicarbonate', 'Creatinine', 'DiaBP', 'HeartRate', 'Lactate', 'Platelets', 'RespRate', 'SpO2', 'SysBP', 'WBC', 'Temperature', 'urine_output_24h']\n",
            "\n",
            "'urine_output_24h' sütunundaki eksik veri sayısı: 0\n",
            "\n",
            "İşlem tamamlandı! 'urine_output_24h' özelliği eklendi.\n"
          ]
        }
      ]
    },
    {
      "cell_type": "code",
      "source": [
        "final_dataset.info()"
      ],
      "metadata": {
        "colab": {
          "base_uri": "https://localhost:8080/"
        },
        "id": "A7tTEmBSuWHQ",
        "outputId": "ea0eeeee-9117-4180-bbf8-c10d13445a96"
      },
      "execution_count": null,
      "outputs": [
        {
          "output_type": "stream",
          "name": "stdout",
          "text": [
            "<class 'pandas.core.frame.DataFrame'>\n",
            "RangeIndex: 135 entries, 0 to 134\n",
            "Data columns (total 19 columns):\n",
            " #   Column            Non-Null Count  Dtype  \n",
            "---  ------            --------------  -----  \n",
            " 0   icustay_id        135 non-null    int64  \n",
            " 1   age               135 non-null    int64  \n",
            " 2   gender            135 non-null    object \n",
            " 3   ethnicity         135 non-null    object \n",
            " 4   admission_type    135 non-null    object \n",
            " 5   is_sepsis         135 non-null    int64  \n",
            " 6   BUN               131 non-null    float64\n",
            " 7   Bicarbonate       132 non-null    float64\n",
            " 8   Creatinine        132 non-null    float64\n",
            " 9   DiaBP             16 non-null     float64\n",
            " 10  HeartRate         132 non-null    float64\n",
            " 11  Lactate           62 non-null     float64\n",
            " 12  Platelets         131 non-null    float64\n",
            " 13  RespRate          132 non-null    float64\n",
            " 14  SpO2              132 non-null    float64\n",
            " 15  SysBP             39 non-null     float64\n",
            " 16  WBC               131 non-null    float64\n",
            " 17  Temperature       129 non-null    float64\n",
            " 18  urine_output_24h  135 non-null    float64\n",
            "dtypes: float64(13), int64(3), object(3)\n",
            "memory usage: 20.2+ KB\n"
          ]
        }
      ]
    },
    {
      "cell_type": "code",
      "source": [
        "from sklearn.model_selection import train_test_split\n",
        "from sklearn.impute import SimpleImputer\n",
        "\n",
        "X = final_dataset.drop(columns=['is_sepsis', 'icustay_id'])\n",
        "y = final_dataset['is_sepsis']\n",
        "\n",
        "X_train, X_test, y_train, y_test = train_test_split(X, y, test_size=0.2, random_state=42, stratify=y)\n",
        "\n",
        "numerical_cols = X_train.select_dtypes(include=np.number).columns.tolist()\n",
        "categorical_cols = X_train.select_dtypes(exclude=np.number).columns.tolist()\n",
        "\n",
        "imputer = SimpleImputer(strategy='median')\n",
        "\n",
        "X_train[numerical_cols] = imputer.fit_transform(X_train[numerical_cols])\n",
        "X_test[numerical_cols] = imputer.transform(X_test[numerical_cols])\n",
        "\n",
        "print(\"\\nEğitim seti eksik veri kontrolü:\")\n",
        "print(X_train.isnull().sum())"
      ],
      "metadata": {
        "colab": {
          "base_uri": "https://localhost:8080/"
        },
        "id": "X_iY6lLgukei",
        "outputId": "23378d84-df31-4794-dbbc-4c8cc4dde23e"
      },
      "execution_count": null,
      "outputs": [
        {
          "output_type": "stream",
          "name": "stdout",
          "text": [
            "\n",
            "Eğitim seti eksik veri kontrolü:\n",
            "age                 0\n",
            "gender              0\n",
            "ethnicity           0\n",
            "admission_type      0\n",
            "BUN                 0\n",
            "Bicarbonate         0\n",
            "Creatinine          0\n",
            "DiaBP               0\n",
            "HeartRate           0\n",
            "Lactate             0\n",
            "Platelets           0\n",
            "RespRate            0\n",
            "SpO2                0\n",
            "SysBP               0\n",
            "WBC                 0\n",
            "Temperature         0\n",
            "urine_output_24h    0\n",
            "dtype: int64\n"
          ]
        }
      ]
    },
    {
      "cell_type": "code",
      "source": [
        "X_train = pd.get_dummies(X_train, columns=categorical_cols, drop_first=True)\n",
        "X_test = pd.get_dummies(X_test, columns=categorical_cols, drop_first=True)\n",
        "\n",
        "train_cols = X_train.columns\n",
        "test_cols = X_test.columns\n",
        "\n",
        "missing_in_test = set(train_cols) - set(test_cols)\n",
        "for c in missing_in_test:\n",
        "    X_test[c] = 0\n",
        "\n",
        "missing_in_train = set(test_cols) - set(train_cols)\n",
        "for c in missing_in_train:\n",
        "    X_train[c] = 0\n",
        "\n",
        "X_test = X_test[train_cols] # Sütun sıralarını aynı yap\n",
        "\n",
        "print(\"\\nModel için hazır eğitim verisinin ilk 5 satırı:\")\n",
        "print(X_train.head())"
      ],
      "metadata": {
        "colab": {
          "base_uri": "https://localhost:8080/"
        },
        "id": "9ilSxntZup2R",
        "outputId": "4ac1f512-ce26-42c6-edf3-8e9d94dd5f51"
      },
      "execution_count": null,
      "outputs": [
        {
          "output_type": "stream",
          "name": "stdout",
          "text": [
            "\n",
            "Model için hazır eğitim verisinin ilk 5 satırı:\n",
            "      age        BUN  Bicarbonate  Creatinine      DiaBP  HeartRate  Lactate  \\\n",
            "8    88.0  38.000000    25.000000    1.700000  54.686636  94.500000     1.55   \n",
            "98   43.0  52.333333    17.333333    2.233333  54.686636  96.166667     1.55   \n",
            "81   62.0  13.428571    16.142857    0.514286  54.516129  90.140625     7.00   \n",
            "133  73.0  23.000000    26.500000    1.450000  54.686636  56.413793     1.55   \n",
            "38   72.0  24.000000    21.000000    0.500000  54.686636  96.521739     1.55   \n",
            "\n",
            "      Platelets   RespRate       SpO2  ...  ethnicity_ASIAN  \\\n",
            "8    129.000000  21.636364  97.147059  ...            False   \n",
            "98    96.666667  15.333333  99.875000  ...            False   \n",
            "81   192.875000  17.618182  96.470588  ...            False   \n",
            "133  197.000000  17.137931  97.700000  ...            False   \n",
            "38   186.000000  16.782609  96.826087  ...            False   \n",
            "\n",
            "     ethnicity_BLACK/AFRICAN AMERICAN  ethnicity_HISPANIC OR LATINO  \\\n",
            "8                               False                         False   \n",
            "98                              False                         False   \n",
            "81                              False                         False   \n",
            "133                             False                         False   \n",
            "38                              False                         False   \n",
            "\n",
            "     ethnicity_HISPANIC/LATINO - PUERTO RICAN  ethnicity_OTHER  \\\n",
            "8                                       False            False   \n",
            "98                                      False            False   \n",
            "81                                       True            False   \n",
            "133                                     False            False   \n",
            "38                                      False            False   \n",
            "\n",
            "     ethnicity_UNKNOWN/NOT SPECIFIED  ethnicity_WHITE  \\\n",
            "8                              False             True   \n",
            "98                             False            False   \n",
            "81                             False            False   \n",
            "133                            False             True   \n",
            "38                             False             True   \n",
            "\n",
            "     admission_type_EMERGENCY  admission_type_URGENT  \\\n",
            "8                        True                  False   \n",
            "98                       True                  False   \n",
            "81                       True                  False   \n",
            "133                      True                  False   \n",
            "38                       True                  False   \n",
            "\n",
            "     ethnicity_UNABLE TO OBTAIN  \n",
            "8                             0  \n",
            "98                            0  \n",
            "81                            0  \n",
            "133                           0  \n",
            "38                            0  \n",
            "\n",
            "[5 rows x 25 columns]\n"
          ]
        }
      ]
    },
    {
      "cell_type": "code",
      "source": [
        "numerical_cols = X_train.select_dtypes(include=np.number).columns.tolist()\n",
        "categorical_cols = X_train.select_dtypes(exclude=np.number).columns.tolist()\n",
        "\n",
        "\n",
        "X_train_encoded = pd.get_dummies(X_train, columns=categorical_cols, drop_first=True)\n",
        "X_test_encoded = pd.get_dummies(X_test, columns=categorical_cols, drop_first=True)\n",
        "\n",
        "final_train_cols = X_train_encoded.columns\n",
        "X_test_aligned = X_test_encoded.reindex(columns=final_train_cols, fill_value=0)\n",
        "\n",
        "X_train = X_train_encoded\n",
        "X_test = X_test_aligned\n",
        "\n",
        "print(\"Eğitim seti sütun sayısı:\", len(X_train.columns))\n",
        "print(\"Test seti sütun sayısı:\", len(X_test.columns))\n",
        "print(\"Sütunlar aynı mı?\", X_train.columns.equals(X_test.columns))"
      ],
      "metadata": {
        "colab": {
          "base_uri": "https://localhost:8080/"
        },
        "id": "BsLZ-x-Quwj0",
        "outputId": "80a43df4-75e4-4472-9f74-9f7e3c453dcd"
      },
      "execution_count": null,
      "outputs": [
        {
          "output_type": "stream",
          "name": "stdout",
          "text": [
            "Eğitim seti sütun sayısı: 25\n",
            "Test seti sütun sayısı: 25\n",
            "Sütunlar aynı mı? True\n"
          ]
        }
      ]
    },
    {
      "cell_type": "code",
      "source": [
        "from sklearn.preprocessing import StandardScaler\n",
        "\n",
        "scaler = StandardScaler()\n",
        "X_train_scaled = scaler.fit_transform(X_train)\n",
        "X_test_scaled = scaler.transform(X_test)"
      ],
      "metadata": {
        "id": "LDG4NZSDwweB"
      },
      "execution_count": null,
      "outputs": []
    },
    {
      "cell_type": "markdown",
      "source": [
        "# LOJİSTİK"
      ],
      "metadata": {
        "id": "RlL5eIR9u5Kt"
      }
    },
    {
      "cell_type": "code",
      "source": [
        "from sklearn.linear_model import LogisticRegression\n",
        "from sklearn.metrics import classification_report, roc_auc_score, roc_curve\n",
        "import matplotlib.pyplot as plt\n",
        "\n",
        "log_reg = LogisticRegression(random_state=42, class_weight='balanced', max_iter=1000)\n",
        "log_reg.fit(X_train_scaled, y_train)\n",
        "\n",
        "y_pred_log_reg = log_reg.predict(X_test_scaled)\n",
        "y_pred_proba_log_reg = log_reg.predict_proba(X_test_scaled)[:, 1]"
      ],
      "metadata": {
        "id": "2ZTaqpfWu0ec"
      },
      "execution_count": null,
      "outputs": []
    },
    {
      "cell_type": "code",
      "source": [
        "print(\"--- Lojistik Regresyon Sonuçları ---\")\n",
        "print(classification_report(y_test, y_pred_log_reg))\n",
        "auc_log_reg = roc_auc_score(y_test, y_pred_proba_log_reg)\n",
        "print(f\"Lojistik Regresyon AUC Skoru: {auc_log_reg:.4f}\")"
      ],
      "metadata": {
        "colab": {
          "base_uri": "https://localhost:8080/"
        },
        "id": "d8ZEO1bku-_6",
        "outputId": "2e60d60e-2f1f-4c3b-dd27-7a39f894f224"
      },
      "execution_count": null,
      "outputs": [
        {
          "output_type": "stream",
          "name": "stdout",
          "text": [
            "--- Lojistik Regresyon Sonuçları ---\n",
            "              precision    recall  f1-score   support\n",
            "\n",
            "           0       0.76      0.84      0.80        19\n",
            "           1       0.50      0.38      0.43         8\n",
            "\n",
            "    accuracy                           0.70        27\n",
            "   macro avg       0.63      0.61      0.61        27\n",
            "weighted avg       0.68      0.70      0.69        27\n",
            "\n",
            "Lojistik Regresyon AUC Skoru: 0.7697\n"
          ]
        }
      ]
    },
    {
      "cell_type": "markdown",
      "source": [
        "# RANDOM FOREST"
      ],
      "metadata": {
        "id": "Zp66yR2OvLBP"
      }
    },
    {
      "cell_type": "code",
      "source": [
        "from sklearn.ensemble import RandomForestClassifier\n",
        "\n",
        "rf_clf = RandomForestClassifier(n_estimators=100, random_state=42, class_weight='balanced')\n",
        "rf_clf.fit(X_train_scaled, y_train)\n",
        "\n",
        "y_pred_rf = rf_clf.predict(X_test_scaled)\n",
        "y_pred_proba_rf = rf_clf.predict_proba(X_test_scaled)[:, 1]"
      ],
      "metadata": {
        "id": "9AP78K-qvAeR"
      },
      "execution_count": null,
      "outputs": []
    },
    {
      "cell_type": "code",
      "source": [
        "print(\"\\n--- Random Forest Sonuçları ---\")\n",
        "print(classification_report(y_test, y_pred_rf))\n",
        "auc_rf = roc_auc_score(y_test, y_pred_proba_rf)\n",
        "print(f\"Random Forest AUC Skoru: {auc_rf:.4f}\")"
      ],
      "metadata": {
        "colab": {
          "base_uri": "https://localhost:8080/"
        },
        "id": "SSwf6qrjvO_S",
        "outputId": "bba6ac1e-99e7-47fd-bd84-45fe3e796642"
      },
      "execution_count": null,
      "outputs": [
        {
          "output_type": "stream",
          "name": "stdout",
          "text": [
            "\n",
            "--- Random Forest Sonuçları ---\n",
            "              precision    recall  f1-score   support\n",
            "\n",
            "           0       0.72      0.95      0.82        19\n",
            "           1       0.50      0.12      0.20         8\n",
            "\n",
            "    accuracy                           0.70        27\n",
            "   macro avg       0.61      0.54      0.51        27\n",
            "weighted avg       0.65      0.70      0.64        27\n",
            "\n",
            "Random Forest AUC Skoru: 0.6941\n"
          ]
        }
      ]
    },
    {
      "cell_type": "code",
      "source": [
        "from sklearn.model_selection import GridSearchCV\n",
        "\n",
        "rf_clf = RandomForestClassifier(random_state=42, class_weight='balanced')\n",
        "\n",
        "param_grid = {\n",
        "    'n_estimators': [100, 200, 300],         # Ağaç sayısı\n",
        "    'max_depth': [10, 20, None],             # Ağaçların maksimum derinliği\n",
        "    'min_samples_leaf': [1, 2, 4],           # Bir yaprakta olması gereken minimum örnek sayısı\n",
        "    'max_features': ['sqrt', 'log2'] # Her bir ağaç için kullanılacak özellik sayısı\n",
        "}\n",
        "\n",
        "\n",
        "grid_search = GridSearchCV(estimator=rf_clf, param_grid=param_grid, cv=5, scoring='roc_auc', n_jobs=-1, verbose=2)\n",
        "grid_search.fit(X_train_scaled, y_train)\n",
        "\n",
        "print(\"En iyi parametreler:\", grid_search.best_params_)\n",
        "print(\"En iyi AUC skoru (Çapraz Doğrulama ile):\", grid_search.best_score_)\n",
        "\n",
        "best_rf_model = grid_search.best_estimator_\n",
        "\n",
        "y_pred_best_rf = best_rf_model.predict(X_test_scaled)"
      ],
      "metadata": {
        "colab": {
          "base_uri": "https://localhost:8080/"
        },
        "id": "RS30rriovQIr",
        "outputId": "7bc48445-bfc1-4bbe-f79c-79f08d9fd955"
      },
      "execution_count": null,
      "outputs": [
        {
          "output_type": "stream",
          "name": "stdout",
          "text": [
            "Fitting 5 folds for each of 54 candidates, totalling 270 fits\n",
            "En iyi parametreler: {'max_depth': 10, 'max_features': 'log2', 'min_samples_leaf': 4, 'n_estimators': 200}\n",
            "En iyi AUC skoru (Çapraz Doğrulama ile): 0.8879166666666667\n"
          ]
        }
      ]
    },
    {
      "cell_type": "code",
      "source": [
        "import xgboost as xgb\n",
        "\n",
        "scale_pos_weight = (y_train == 0).sum() / (y_train == 1).sum()\n",
        "\n",
        "xgb_clf = xgb.XGBClassifier(\n",
        "    objective='binary:logistic',\n",
        "    use_label_encoder=False,\n",
        "    eval_metric='logloss',\n",
        "    scale_pos_weight=scale_pos_weight, # Dengesizliğe karşı hassaslaştırır\n",
        "    random_state=42\n",
        ")\n",
        "\n",
        "xgb_clf.fit(X_train_scaled, y_train)\n",
        "\n",
        "y_pred_xgb = xgb_clf.predict(X_test_scaled)\n",
        "print(\"\\n--- XGBoost Sonuçları ---\")\n",
        "print(classification_report(y_test, y_pred_xgb))"
      ],
      "metadata": {
        "colab": {
          "base_uri": "https://localhost:8080/"
        },
        "id": "-OQn8fB9vXp5",
        "outputId": "64348839-4fad-48f0-a866-ce8c2fd9b99c"
      },
      "execution_count": null,
      "outputs": [
        {
          "output_type": "stream",
          "name": "stdout",
          "text": [
            "\n",
            "--- XGBoost Sonuçları ---\n",
            "              precision    recall  f1-score   support\n",
            "\n",
            "           0       0.84      0.84      0.84        19\n",
            "           1       0.62      0.62      0.62         8\n",
            "\n",
            "    accuracy                           0.78        27\n",
            "   macro avg       0.73      0.73      0.73        27\n",
            "weighted avg       0.78      0.78      0.78        27\n",
            "\n"
          ]
        },
        {
          "output_type": "stream",
          "name": "stderr",
          "text": [
            "/usr/local/lib/python3.11/dist-packages/xgboost/core.py:158: UserWarning: [10:31:28] WARNING: /workspace/src/learner.cc:740: \n",
            "Parameters: { \"use_label_encoder\" } are not used.\n",
            "\n",
            "  warnings.warn(smsg, UserWarning)\n"
          ]
        }
      ]
    },
    {
      "cell_type": "code",
      "source": [
        "final_features = features_first_24h.pivot_table(\n",
        "    index='icustay_id',\n",
        "    columns='label',\n",
        "    values='valuenum',\n",
        "    aggfunc=['mean', 'std', 'min', 'max'] # Birden fazla fonksiyonu liste hali\n",
        ").reset_index()\n",
        "\n",
        "final_features.columns = ['_'.join(col).strip() for col in final_features.columns.values]"
      ],
      "metadata": {
        "id": "s702ZrdPzFUE"
      },
      "execution_count": null,
      "outputs": []
    },
    {
      "cell_type": "code",
      "source": [
        "from imblearn.over_sampling import SMOTE\n",
        "from imblearn.pipeline import Pipeline\n",
        "\n",
        "pipeline = Pipeline([\n",
        "    ('smote', SMOTE(random_state=42)),\n",
        "    ('scaler', StandardScaler()),\n",
        "    ('classifier', RandomForestClassifier(random_state=42, class_weight='balanced'))\n",
        "])\n",
        "\n",
        "pipeline.fit(X_train, y_train)\n",
        "y_pred_pipeline = pipeline.predict(X_test)\n",
        "\n",
        "print(classification_report(y_test, y_pred_pipeline))"
      ],
      "metadata": {
        "colab": {
          "base_uri": "https://localhost:8080/"
        },
        "id": "05MEUToKzUeb",
        "outputId": "150998ce-6ff4-4495-c4cb-e591ff7ec875"
      },
      "execution_count": null,
      "outputs": [
        {
          "output_type": "stream",
          "name": "stdout",
          "text": [
            "              precision    recall  f1-score   support\n",
            "\n",
            "           0       0.81      0.89      0.85        19\n",
            "           1       0.67      0.50      0.57         8\n",
            "\n",
            "    accuracy                           0.78        27\n",
            "   macro avg       0.74      0.70      0.71        27\n",
            "weighted avg       0.77      0.78      0.77        27\n",
            "\n"
          ]
        }
      ]
    },
    {
      "cell_type": "code",
      "source": [
        "import pandas as pd\n",
        "import seaborn as sns\n",
        "import matplotlib.pyplot as plt\n",
        "import numpy as np\n",
        "\n",
        "numerical_features = final_dataset.select_dtypes(include=np.number)\n",
        "if 'is_sepsis' in numerical_features.columns:\n",
        "    numerical_features = numerical_features.drop(columns=['is_sepsis'])\n",
        "if 'icustay_id' in numerical_features.columns:\n",
        "    numerical_features = numerical_features.drop(columns=['icustay_id'])\n",
        "\n",
        "correlation_matrix = numerical_features.corr()\n",
        "\n",
        "# Isı haritası (Heatmap)\n",
        "plt.figure(figsize=(15, 12))\n",
        "sns.heatmap(\n",
        "    correlation_matrix,\n",
        "    annot=False,\n",
        "    cmap='coolwarm',\n",
        "    linewidths=.5,\n",
        "    vmin=-1, vmax=1\n",
        ")\n",
        "plt.title('Bağımsız Değişkenlerin Korelasyon Isı Haritası', fontsize=16)\n",
        "plt.show()\n",
        "\n",
        "upper_triangle = correlation_matrix.where(np.triu(np.ones(correlation_matrix.shape), k=1).astype(bool))\n",
        "\n",
        "highly_correlated_pairs = upper_triangle.stack().reset_index()\n",
        "highly_correlated_pairs.columns = ['Özellik 1', 'Özellik 2', 'Korelasyon']\n",
        "\n",
        "strongest_correlations = highly_correlated_pairs.loc[highly_correlated_pairs['Korelasyon'].abs().sort_values(ascending=False).index]\n",
        "\n",
        "print(\"En Yüksek Korelasyona Sahip Değişken Çiftleri:\")\n",
        "print(strongest_correlations.head(10))"
      ],
      "metadata": {
        "colab": {
          "base_uri": "https://localhost:8080/",
          "height": 1000
        },
        "id": "Os21bcARzV5j",
        "outputId": "3732f1db-3a0d-4b86-b948-267081dce6dc"
      },
      "execution_count": null,
      "outputs": [
        {
          "output_type": "display_data",
          "data": {
            "text/plain": [
              "<Figure size 1500x1200 with 2 Axes>"
            ],
            "image/png": "[encoded data removed]"
          },
          "metadata": {}
        },
        {
          "output_type": "stream",
          "name": "stdout",
          "text": [
            "En Yüksek Korelasyona Sahip Değişken Çiftleri:\n",
            "      Özellik 1    Özellik 2  Korelasyon\n",
            "51        DiaBP        SysBP    0.837309\n",
            "47        DiaBP      Lactate   -0.602466\n",
            "38   Creatinine      Lactate    0.549535\n",
            "66      Lactate        SysBP   -0.506048\n",
            "28  Bicarbonate      Lactate   -0.487440\n",
            "53        DiaBP  Temperature    0.470309\n",
            "36   Creatinine        DiaBP   -0.401079\n",
            "14          BUN   Creatinine    0.392813\n",
            "49        DiaBP     RespRate   -0.352798\n",
            "26  Bicarbonate        DiaBP    0.342591\n"
          ]
        }
      ]
    },
    {
      "cell_type": "code",
      "source": [
        "from sklearn.ensemble import RandomForestClassifier\n",
        "\n",
        "rf_clf = RandomForestClassifier(n_estimators=100, random_state=42, class_weight='balanced')\n",
        "rf_clf.fit(X_train_scaled, y_train)\n",
        "\n",
        "importances = rf_clf.feature_importances_\n",
        "\n",
        "feature_importance_df = pd.DataFrame({\n",
        "    'Özellik': X_train.columns,\n",
        "    'Önem Düzeyi': importances\n",
        "})\n",
        "\n",
        "feature_importance_df = feature_importance_df.sort_values(by='Önem Düzeyi', ascending=False)\n",
        "\n",
        "plt.figure(figsize=(12, 8))\n",
        "sns.barplot(x='Önem Düzeyi', y='Özellik', data=feature_importance_df.head(15))\n",
        "plt.title('Random Forest Özellik Önem Düzeyleri', fontsize=16)\n",
        "plt.xlabel('Önem Düzeyi')\n",
        "plt.ylabel('Özellik')\n",
        "plt.show()\n",
        "\n",
        "print(\"\\nEn Önemli Değişkenler:\")\n",
        "print(feature_importance_df.head(10))"
      ],
      "metadata": {
        "colab": {
          "base_uri": "https://localhost:8080/",
          "height": 952
        },
        "id": "Pq4PrIxP0Mnx",
        "outputId": "666d06af-a411-4be6-af1e-a085c1953c48"
      },
      "execution_count": null,
      "outputs": [
        {
          "output_type": "display_data",
          "data": {
            "text/plain": [
              "<Figure size 1200x800 with 1 Axes>"
            ],
            "image/png": "[encoded data removed]"
          },
          "metadata": {}
        },
        {
          "output_type": "stream",
          "name": "stdout",
          "text": [
            "\n",
            "En Önemli Değişkenler:\n",
            "                                          Özellik  Önem Düzeyi\n",
            "8                                        RespRate     0.117929\n",
            "11                                            WBC     0.104721\n",
            "19  ethnicity_HISPANIC/LATINO - PUERTO RICAN_True     0.077795\n",
            "1                                             BUN     0.075560\n",
            "0                                             age     0.072006\n",
            "6                                         Lactate     0.071214\n",
            "2                                     Bicarbonate     0.064491\n",
            "12                                    Temperature     0.060154\n",
            "13                               urine_output_24h     0.057844\n",
            "5                                       HeartRate     0.057021\n"
          ]
        }
      ]
    },
    {
      "cell_type": "code",
      "source": [
        "import statsmodels.api as sm\n",
        "\n",
        "print(\"--- Statsmodels ile İstatistiksel Anlamlılık Testi ---\")\n",
        "\n",
        "X_train_encoded = pd.get_dummies(X_train, drop_first=True)\n",
        "\n",
        "# Sabit Değerli Sütunları Bulma ve Çıkarma (Singular Matrix Hatası Çözümü)\n",
        "constant_columns = X_train_encoded.columns[X_train_encoded.nunique() <= 1]\n",
        "\n",
        "if len(constant_columns) > 0:\n",
        "    print(f\"\\nVeri setinde sabit değerli (varyansı 0) sütunlar bulundu: {list(constant_columns)}\")\n",
        "    print(\"Bu sütunlar modelden çıkarılıyor...\")\n",
        "    X_train_final = X_train_encoded.drop(columns=constant_columns)\n",
        "else:\n",
        "    print(\"\\nSabit değerli sütun bulunamadı. Veri seti bu açıdan temiz görünüyor.\")\n",
        "    X_train_final = X_train_encoded\n",
        "\n",
        "X_train_final = X_train_final.astype(int)\n",
        "X_train_with_const = sm.add_constant(X_train_final)\n",
        "y_train_numeric = pd.to_numeric(y_train)\n",
        "\n",
        "print(\"\\nLojistik Regresyon modeli oluşturuluyor ve eğitiliyor...\")\n",
        "try:\n",
        "    logit_model = sm.Logit(y_train_numeric, X_train_with_const)\n",
        "    result = logit_model.fit(method='newton')\n",
        "\n",
        "    print(\"\\n--- Model Özeti ---\")\n",
        "    print(result.summary())\n",
        "\n",
        "except Exception as e:\n",
        "    print(f\"\\nModel eğitilirken bir hata oluştu: {e}\")\n",
        "    print(\"Veri setinizde hala çoklu doğrusallık sorunu olabilir. Korelasyon matrisini incelemeyi deneyin.\")"
      ],
      "metadata": {
        "colab": {
          "base_uri": "https://localhost:8080/"
        },
        "id": "VTJf9SNJ0oU6",
        "outputId": "3da656ab-909e-4803-faaa-b158519d368f"
      },
      "execution_count": null,
      "outputs": [
        {
          "output_type": "stream",
          "name": "stdout",
          "text": [
            "--- Statsmodels ile İstatistiksel Anlamlılık Testi ---\n",
            "\n",
            "Veri setinde sabit değerli (varyansı 0) sütunlar bulundu: ['ethnicity_UNABLE TO OBTAIN']\n",
            "Bu sütunlar modelden çıkarılıyor...\n",
            "\n",
            "Lojistik Regresyon modeli oluşturuluyor ve eğitiliyor...\n",
            "Warning: Maximum number of iterations has been exceeded.\n",
            "         Current function value: 0.269710\n",
            "         Iterations: 35\n",
            "\n",
            "--- Model Özeti ---\n",
            "                           Logit Regression Results                           \n",
            "==============================================================================\n",
            "Dep. Variable:              is_sepsis   No. Observations:                  108\n",
            "Model:                          Logit   Df Residuals:                       83\n",
            "Method:                           MLE   Df Model:                           24\n",
            "Date:                Wed, 16 Jul 2025   Pseudo R-squ.:                  0.5435\n",
            "Time:                        10:31:32   Log-Likelihood:                -29.129\n",
            "converged:                      False   LL-Null:                       -63.811\n",
            "Covariance Type:            nonrobust   LLR p-value:                 2.728e-06\n",
            "=================================================================================================================\n",
            "                                                    coef    std err          z      P>|z|      [0.025      0.975]\n",
            "-----------------------------------------------------------------------------------------------------------------\n",
            "const                                           -74.6797   4.71e+06  -1.58e-05      1.000   -9.24e+06    9.24e+06\n",
            "age                                               0.0017      0.037      0.047      0.963      -0.071       0.075\n",
            "BUN                                               0.0282      0.017      1.627      0.104      -0.006       0.062\n",
            "Bicarbonate                                      -0.0004      0.094     -0.004      0.997      -0.185       0.184\n",
            "Creatinine                                        0.3480      0.495      0.703      0.482      -0.623       1.319\n",
            "DiaBP                                             0.1629      0.157      1.038      0.299      -0.145       0.470\n",
            "HeartRate                                        -0.0358      0.027     -1.337      0.181      -0.088       0.017\n",
            "Lactate                                           0.7238      0.338      2.140      0.032       0.061       1.387\n",
            "Platelets                                         0.0018      0.005      0.328      0.743      -0.009       0.013\n",
            "RespRate                                          0.3207      0.101      3.189      0.001       0.124       0.518\n",
            "SpO2                                              0.1078      0.171      0.631      0.528      -0.227       0.443\n",
            "SysBP                                             0.0221      0.081      0.274      0.784      -0.136       0.180\n",
            "WBC                                               0.1232      0.072      1.707      0.088      -0.018       0.265\n",
            "Temperature                                       0.0255      0.015      1.656      0.098      -0.005       0.056\n",
            "urine_output_24h                               6.972e-05      0.000      0.212      0.832      -0.001       0.001\n",
            "gender_M_True                                    -1.0460      0.958     -1.091      0.275      -2.924       0.832\n",
            "ethnicity_ASIAN_True                             27.5032   4.71e+06   5.84e-06      1.000   -9.24e+06    9.24e+06\n",
            "ethnicity_BLACK/AFRICAN AMERICAN_True            26.1037   4.71e+06   5.54e-06      1.000   -9.24e+06    9.24e+06\n",
            "ethnicity_HISPANIC OR LATINO_True                27.3011   4.71e+06   5.79e-06      1.000   -9.24e+06    9.24e+06\n",
            "ethnicity_HISPANIC/LATINO - PUERTO RICAN_True    31.5844   4.71e+06    6.7e-06      1.000   -9.24e+06    9.24e+06\n",
            "ethnicity_OTHER_True                            -79.2952   6.97e+22  -1.14e-21      1.000   -1.37e+23    1.37e+23\n",
            "ethnicity_UNKNOWN/NOT SPECIFIED_True             21.7515   4.71e+06   4.62e-06      1.000   -9.24e+06    9.24e+06\n",
            "ethnicity_WHITE_True                             25.3351   4.71e+06   5.38e-06      1.000   -9.24e+06    9.24e+06\n",
            "admission_type_EMERGENCY_True                    16.8512   6447.258      0.003      0.998   -1.26e+04    1.27e+04\n",
            "admission_type_URGENT_True                       -4.6390   8.17e+04  -5.68e-05      1.000    -1.6e+05     1.6e+05\n",
            "=================================================================================================================\n",
            "\n",
            "Possibly complete quasi-separation: A fraction 0.13 of observations can be\n",
            "perfectly predicted. This might indicate that there is complete\n",
            "quasi-separation. In this case some parameters will not be identified.\n"
          ]
        },
        {
          "output_type": "stream",
          "name": "stderr",
          "text": [
            "/usr/local/lib/python3.11/dist-packages/statsmodels/base/model.py:607: ConvergenceWarning: Maximum Likelihood optimization failed to converge. Check mle_retvals\n",
            "  warnings.warn(\"Maximum Likelihood optimization failed to \"\n"
          ]
        }
      ]
    },
    {
      "cell_type": "code",
      "source": [
        "import matplotlib.pyplot as plt\n",
        "from imblearn.over_sampling import SMOTE\n",
        "from imblearn.pipeline import Pipeline\n",
        "from sklearn.preprocessing import StandardScaler\n",
        "from sklearn.ensemble import RandomForestClassifier\n",
        "from sklearn.metrics import classification_report\n",
        "\n",
        "X_train_encoded = pd.get_dummies(X_train, drop_first=True)\n",
        "X_test_encoded = pd.get_dummies(X_test, drop_first=True)\n",
        "X_test_encoded = X_test_encoded.reindex(columns=X_train_encoded.columns, fill_value=0)\n",
        "\n",
        "pipeline = Pipeline([\n",
        "    ('smote', SMOTE(random_state=42)),\n",
        "    ('scaler', StandardScaler()),\n",
        "    ('classifier', RandomForestClassifier(random_state=42, class_weight='balanced'))\n",
        "])\n",
        "\n",
        "pipeline.fit(X_train_encoded, y_train)\n",
        "\n",
        "y_pred_pipeline = pipeline.predict(X_test_encoded)\n",
        "print(\"--- Pipeline Model Sonuçları ---\")\n",
        "print(classification_report(y_test, y_pred_pipeline))\n",
        "\n",
        "print(\"\\n--- Pipeline İçindeki Modelin Özellik Önem Düzeyleri ---\")\n",
        "\n",
        "trained_model = pipeline.named_steps['classifier']\n",
        "\n",
        "importances = trained_model.feature_importances_\n",
        "feature_names = X_train_encoded.columns\n",
        "feature_importance_df = pd.DataFrame({\n",
        "    'Özellik': feature_names,\n",
        "    'Önem Düzeyi': importances\n",
        "})\n",
        "\n",
        "feature_importance_df = feature_importance_df.sort_values(by='Önem Düzeyi', ascending=False)\n",
        "\n",
        "plt.figure(figsize=(12, 8))\n",
        "sns.barplot(x='Önem Düzeyi', y='Özellik', data=feature_importance_df.head(15))\n",
        "plt.title('Pipeline (SMOTE + StandardScaler + RandomForest) Özellik Önem Düzeyleri', fontsize=14)\n",
        "plt.xlabel('Önem Düzeyi')\n",
        "plt.ylabel('Özellik')\n",
        "plt.show()\n",
        "\n",
        "print(\"\\nEn Önemli Değişkenler (Pipeline'a Göre):\")\n",
        "print(feature_importance_df.head(10))"
      ],
      "metadata": {
        "colab": {
          "base_uri": "https://localhost:8080/",
          "height": 1000
        },
        "id": "rxBmQbeY7MmZ",
        "outputId": "08f0fb96-ce2b-466f-e2bd-3f2b12bfd63e"
      },
      "execution_count": null,
      "outputs": [
        {
          "output_type": "stream",
          "name": "stdout",
          "text": [
            "--- Pipeline Model Sonuçları ---\n",
            "              precision    recall  f1-score   support\n",
            "\n",
            "           0       0.81      0.89      0.85        19\n",
            "           1       0.67      0.50      0.57         8\n",
            "\n",
            "    accuracy                           0.78        27\n",
            "   macro avg       0.74      0.70      0.71        27\n",
            "weighted avg       0.77      0.78      0.77        27\n",
            "\n",
            "\n",
            "--- Pipeline İçindeki Modelin Özellik Önem Düzeyleri ---\n"
          ]
        },
        {
          "output_type": "display_data",
          "data": {
            "text/plain": [
              "<Figure size 1200x800 with 1 Axes>"
            ],
            "image/png": "[encoded data removed]"
          },
          "metadata": {}
        },
        {
          "output_type": "stream",
          "name": "stdout",
          "text": [
            "\n",
            "En Önemli Değişkenler (Pipeline'a Göre):\n",
            "                                          Özellik  Önem Düzeyi\n",
            "6                                         Lactate     0.143628\n",
            "11                                            WBC     0.114926\n",
            "19  ethnicity_HISPANIC/LATINO - PUERTO RICAN_True     0.092648\n",
            "8                                        RespRate     0.087391\n",
            "13                               urine_output_24h     0.065189\n",
            "12                                    Temperature     0.059492\n",
            "1                                             BUN     0.058765\n",
            "5                                       HeartRate     0.053526\n",
            "2                                     Bicarbonate     0.051004\n",
            "3                                      Creatinine     0.044838\n"
          ]
        }
      ]
    },
    {
      "cell_type": "code",
      "source": [],
      "metadata": {
        "id": "3D_E2etRAXn3"
      },
      "execution_count": null,
      "outputs": []
    }
  ]
}